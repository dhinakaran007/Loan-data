{
 "cells": [
  {
   "cell_type": "code",
   "execution_count": 1,
   "id": "2701bda8",
   "metadata": {
    "_cell_guid": "b1076dfc-b9ad-4769-8c92-a6c4dae69d19",
    "_uuid": "8f2839f25d086af736a60e9eeb907d3b93b6e0e5",
    "execution": {
     "iopub.execute_input": "2024-10-03T06:55:11.750528Z",
     "iopub.status.busy": "2024-10-03T06:55:11.749955Z",
     "iopub.status.idle": "2024-10-03T06:55:12.664870Z",
     "shell.execute_reply": "2024-10-03T06:55:12.663493Z"
    },
    "papermill": {
     "duration": 0.930881,
     "end_time": "2024-10-03T06:55:12.667640",
     "exception": false,
     "start_time": "2024-10-03T06:55:11.736759",
     "status": "completed"
    },
    "tags": []
   },
   "outputs": [
    {
     "name": "stdout",
     "output_type": "stream",
     "text": [
      "/kaggle/input/loan-data/loan_data.csv\n"
     ]
    }
   ],
   "source": [
    "# This Python 3 environment comes with many helpful analytics libraries installed\n",
    "# It is defined by the kaggle/python Docker image: https://github.com/kaggle/docker-python\n",
    "# For example, here's several helpful packages to load\n",
    "\n",
    "import numpy as np # linear algebra\n",
    "import pandas as pd # data processing, CSV file I/O (e.g. pd.read_csv)\n",
    "\n",
    "# Input data files are available in the read-only \"../input/\" directory\n",
    "# For example, running this (by clicking run or pressing Shift+Enter) will list all files under the input directory\n",
    "\n",
    "import os\n",
    "for dirname, _, filenames in os.walk('/kaggle/input'):\n",
    "    for filename in filenames:\n",
    "        print(os.path.join(dirname, filename))\n",
    "\n",
    "# You can write up to 20GB to the current directory (/kaggle/working/) that gets preserved as output when you create a version using \"Save & Run All\" \n",
    "# You can also write temporary files to /kaggle/temp/, but they won't be saved outside of the current session"
   ]
  },
  {
   "cell_type": "code",
   "execution_count": 2,
   "id": "d12f171c",
   "metadata": {
    "execution": {
     "iopub.execute_input": "2024-10-03T06:55:12.692375Z",
     "iopub.status.busy": "2024-10-03T06:55:12.691772Z",
     "iopub.status.idle": "2024-10-03T06:55:12.701183Z",
     "shell.execute_reply": "2024-10-03T06:55:12.700117Z"
    },
    "papermill": {
     "duration": 0.02452,
     "end_time": "2024-10-03T06:55:12.703766",
     "exception": false,
     "start_time": "2024-10-03T06:55:12.679246",
     "status": "completed"
    },
    "tags": []
   },
   "outputs": [
    {
     "data": {
      "text/plain": [
       "['loan_data.csv']"
      ]
     },
     "execution_count": 2,
     "metadata": {},
     "output_type": "execute_result"
    }
   ],
   "source": [
    "os.listdir(\"/kaggle/input/loan-data\")"
   ]
  },
  {
   "cell_type": "code",
   "execution_count": 3,
   "id": "c3bf43c3",
   "metadata": {
    "execution": {
     "iopub.execute_input": "2024-10-03T06:55:12.727667Z",
     "iopub.status.busy": "2024-10-03T06:55:12.727199Z",
     "iopub.status.idle": "2024-10-03T06:55:12.806793Z",
     "shell.execute_reply": "2024-10-03T06:55:12.805719Z"
    },
    "papermill": {
     "duration": 0.094471,
     "end_time": "2024-10-03T06:55:12.809301",
     "exception": false,
     "start_time": "2024-10-03T06:55:12.714830",
     "status": "completed"
    },
    "tags": []
   },
   "outputs": [
    {
     "data": {
      "text/html": [
       "<div>\n",
       "<style scoped>\n",
       "    .dataframe tbody tr th:only-of-type {\n",
       "        vertical-align: middle;\n",
       "    }\n",
       "\n",
       "    .dataframe tbody tr th {\n",
       "        vertical-align: top;\n",
       "    }\n",
       "\n",
       "    .dataframe thead th {\n",
       "        text-align: right;\n",
       "    }\n",
       "</style>\n",
       "<table border=\"1\" class=\"dataframe\">\n",
       "  <thead>\n",
       "    <tr style=\"text-align: right;\">\n",
       "      <th></th>\n",
       "      <th>credit.policy</th>\n",
       "      <th>purpose</th>\n",
       "      <th>int.rate</th>\n",
       "      <th>installment</th>\n",
       "      <th>log.annual.inc</th>\n",
       "      <th>dti</th>\n",
       "      <th>fico</th>\n",
       "      <th>days.with.cr.line</th>\n",
       "      <th>revol.bal</th>\n",
       "      <th>revol.util</th>\n",
       "      <th>inq.last.6mths</th>\n",
       "      <th>delinq.2yrs</th>\n",
       "      <th>pub.rec</th>\n",
       "      <th>not.fully.paid</th>\n",
       "    </tr>\n",
       "  </thead>\n",
       "  <tbody>\n",
       "    <tr>\n",
       "      <th>0</th>\n",
       "      <td>1</td>\n",
       "      <td>debt_consolidation</td>\n",
       "      <td>0.1189</td>\n",
       "      <td>829.10</td>\n",
       "      <td>11.350407</td>\n",
       "      <td>19.48</td>\n",
       "      <td>737</td>\n",
       "      <td>5639.958333</td>\n",
       "      <td>28854</td>\n",
       "      <td>52.1</td>\n",
       "      <td>0</td>\n",
       "      <td>0</td>\n",
       "      <td>0</td>\n",
       "      <td>0</td>\n",
       "    </tr>\n",
       "    <tr>\n",
       "      <th>1</th>\n",
       "      <td>1</td>\n",
       "      <td>credit_card</td>\n",
       "      <td>0.1071</td>\n",
       "      <td>228.22</td>\n",
       "      <td>11.082143</td>\n",
       "      <td>14.29</td>\n",
       "      <td>707</td>\n",
       "      <td>2760.000000</td>\n",
       "      <td>33623</td>\n",
       "      <td>76.7</td>\n",
       "      <td>0</td>\n",
       "      <td>0</td>\n",
       "      <td>0</td>\n",
       "      <td>0</td>\n",
       "    </tr>\n",
       "    <tr>\n",
       "      <th>2</th>\n",
       "      <td>1</td>\n",
       "      <td>debt_consolidation</td>\n",
       "      <td>0.1357</td>\n",
       "      <td>366.86</td>\n",
       "      <td>10.373491</td>\n",
       "      <td>11.63</td>\n",
       "      <td>682</td>\n",
       "      <td>4710.000000</td>\n",
       "      <td>3511</td>\n",
       "      <td>25.6</td>\n",
       "      <td>1</td>\n",
       "      <td>0</td>\n",
       "      <td>0</td>\n",
       "      <td>0</td>\n",
       "    </tr>\n",
       "    <tr>\n",
       "      <th>3</th>\n",
       "      <td>1</td>\n",
       "      <td>debt_consolidation</td>\n",
       "      <td>0.1008</td>\n",
       "      <td>162.34</td>\n",
       "      <td>11.350407</td>\n",
       "      <td>8.10</td>\n",
       "      <td>712</td>\n",
       "      <td>2699.958333</td>\n",
       "      <td>33667</td>\n",
       "      <td>73.2</td>\n",
       "      <td>1</td>\n",
       "      <td>0</td>\n",
       "      <td>0</td>\n",
       "      <td>0</td>\n",
       "    </tr>\n",
       "    <tr>\n",
       "      <th>4</th>\n",
       "      <td>1</td>\n",
       "      <td>credit_card</td>\n",
       "      <td>0.1426</td>\n",
       "      <td>102.92</td>\n",
       "      <td>11.299732</td>\n",
       "      <td>14.97</td>\n",
       "      <td>667</td>\n",
       "      <td>4066.000000</td>\n",
       "      <td>4740</td>\n",
       "      <td>39.5</td>\n",
       "      <td>0</td>\n",
       "      <td>1</td>\n",
       "      <td>0</td>\n",
       "      <td>0</td>\n",
       "    </tr>\n",
       "  </tbody>\n",
       "</table>\n",
       "</div>"
      ],
      "text/plain": [
       "   credit.policy             purpose  int.rate  installment  log.annual.inc  \\\n",
       "0              1  debt_consolidation    0.1189       829.10       11.350407   \n",
       "1              1         credit_card    0.1071       228.22       11.082143   \n",
       "2              1  debt_consolidation    0.1357       366.86       10.373491   \n",
       "3              1  debt_consolidation    0.1008       162.34       11.350407   \n",
       "4              1         credit_card    0.1426       102.92       11.299732   \n",
       "\n",
       "     dti  fico  days.with.cr.line  revol.bal  revol.util  inq.last.6mths  \\\n",
       "0  19.48   737        5639.958333      28854        52.1               0   \n",
       "1  14.29   707        2760.000000      33623        76.7               0   \n",
       "2  11.63   682        4710.000000       3511        25.6               1   \n",
       "3   8.10   712        2699.958333      33667        73.2               1   \n",
       "4  14.97   667        4066.000000       4740        39.5               0   \n",
       "\n",
       "   delinq.2yrs  pub.rec  not.fully.paid  \n",
       "0            0        0               0  \n",
       "1            0        0               0  \n",
       "2            0        0               0  \n",
       "3            0        0               0  \n",
       "4            1        0               0  "
      ]
     },
     "execution_count": 3,
     "metadata": {},
     "output_type": "execute_result"
    }
   ],
   "source": [
    "data = pd.read_csv('/kaggle/input/loan-data/loan_data.csv')\n",
    "data.head()"
   ]
  },
  {
   "cell_type": "code",
   "execution_count": 4,
   "id": "3c4ab8b5",
   "metadata": {
    "execution": {
     "iopub.execute_input": "2024-10-03T06:55:12.834083Z",
     "iopub.status.busy": "2024-10-03T06:55:12.833666Z",
     "iopub.status.idle": "2024-10-03T06:55:12.891257Z",
     "shell.execute_reply": "2024-10-03T06:55:12.890200Z"
    },
    "papermill": {
     "duration": 0.073038,
     "end_time": "2024-10-03T06:55:12.893781",
     "exception": false,
     "start_time": "2024-10-03T06:55:12.820743",
     "status": "completed"
    },
    "tags": []
   },
   "outputs": [
    {
     "data": {
      "text/html": [
       "<div>\n",
       "<style scoped>\n",
       "    .dataframe tbody tr th:only-of-type {\n",
       "        vertical-align: middle;\n",
       "    }\n",
       "\n",
       "    .dataframe tbody tr th {\n",
       "        vertical-align: top;\n",
       "    }\n",
       "\n",
       "    .dataframe thead th {\n",
       "        text-align: right;\n",
       "    }\n",
       "</style>\n",
       "<table border=\"1\" class=\"dataframe\">\n",
       "  <thead>\n",
       "    <tr style=\"text-align: right;\">\n",
       "      <th></th>\n",
       "      <th>credit.policy</th>\n",
       "      <th>int.rate</th>\n",
       "      <th>installment</th>\n",
       "      <th>log.annual.inc</th>\n",
       "      <th>dti</th>\n",
       "      <th>fico</th>\n",
       "      <th>days.with.cr.line</th>\n",
       "      <th>revol.bal</th>\n",
       "      <th>revol.util</th>\n",
       "      <th>inq.last.6mths</th>\n",
       "      <th>delinq.2yrs</th>\n",
       "      <th>pub.rec</th>\n",
       "      <th>not.fully.paid</th>\n",
       "    </tr>\n",
       "  </thead>\n",
       "  <tbody>\n",
       "    <tr>\n",
       "      <th>count</th>\n",
       "      <td>9578.000000</td>\n",
       "      <td>9578.000000</td>\n",
       "      <td>9578.000000</td>\n",
       "      <td>9578.000000</td>\n",
       "      <td>9578.000000</td>\n",
       "      <td>9578.000000</td>\n",
       "      <td>9578.000000</td>\n",
       "      <td>9.578000e+03</td>\n",
       "      <td>9578.000000</td>\n",
       "      <td>9578.000000</td>\n",
       "      <td>9578.000000</td>\n",
       "      <td>9578.000000</td>\n",
       "      <td>9578.000000</td>\n",
       "    </tr>\n",
       "    <tr>\n",
       "      <th>mean</th>\n",
       "      <td>0.804970</td>\n",
       "      <td>0.122640</td>\n",
       "      <td>319.089413</td>\n",
       "      <td>10.932117</td>\n",
       "      <td>12.606679</td>\n",
       "      <td>710.846314</td>\n",
       "      <td>4560.767197</td>\n",
       "      <td>1.691396e+04</td>\n",
       "      <td>46.799236</td>\n",
       "      <td>1.577469</td>\n",
       "      <td>0.163708</td>\n",
       "      <td>0.062122</td>\n",
       "      <td>0.160054</td>\n",
       "    </tr>\n",
       "    <tr>\n",
       "      <th>std</th>\n",
       "      <td>0.396245</td>\n",
       "      <td>0.026847</td>\n",
       "      <td>207.071301</td>\n",
       "      <td>0.614813</td>\n",
       "      <td>6.883970</td>\n",
       "      <td>37.970537</td>\n",
       "      <td>2496.930377</td>\n",
       "      <td>3.375619e+04</td>\n",
       "      <td>29.014417</td>\n",
       "      <td>2.200245</td>\n",
       "      <td>0.546215</td>\n",
       "      <td>0.262126</td>\n",
       "      <td>0.366676</td>\n",
       "    </tr>\n",
       "    <tr>\n",
       "      <th>min</th>\n",
       "      <td>0.000000</td>\n",
       "      <td>0.060000</td>\n",
       "      <td>15.670000</td>\n",
       "      <td>7.547502</td>\n",
       "      <td>0.000000</td>\n",
       "      <td>612.000000</td>\n",
       "      <td>178.958333</td>\n",
       "      <td>0.000000e+00</td>\n",
       "      <td>0.000000</td>\n",
       "      <td>0.000000</td>\n",
       "      <td>0.000000</td>\n",
       "      <td>0.000000</td>\n",
       "      <td>0.000000</td>\n",
       "    </tr>\n",
       "    <tr>\n",
       "      <th>25%</th>\n",
       "      <td>1.000000</td>\n",
       "      <td>0.103900</td>\n",
       "      <td>163.770000</td>\n",
       "      <td>10.558414</td>\n",
       "      <td>7.212500</td>\n",
       "      <td>682.000000</td>\n",
       "      <td>2820.000000</td>\n",
       "      <td>3.187000e+03</td>\n",
       "      <td>22.600000</td>\n",
       "      <td>0.000000</td>\n",
       "      <td>0.000000</td>\n",
       "      <td>0.000000</td>\n",
       "      <td>0.000000</td>\n",
       "    </tr>\n",
       "    <tr>\n",
       "      <th>50%</th>\n",
       "      <td>1.000000</td>\n",
       "      <td>0.122100</td>\n",
       "      <td>268.950000</td>\n",
       "      <td>10.928884</td>\n",
       "      <td>12.665000</td>\n",
       "      <td>707.000000</td>\n",
       "      <td>4139.958333</td>\n",
       "      <td>8.596000e+03</td>\n",
       "      <td>46.300000</td>\n",
       "      <td>1.000000</td>\n",
       "      <td>0.000000</td>\n",
       "      <td>0.000000</td>\n",
       "      <td>0.000000</td>\n",
       "    </tr>\n",
       "    <tr>\n",
       "      <th>75%</th>\n",
       "      <td>1.000000</td>\n",
       "      <td>0.140700</td>\n",
       "      <td>432.762500</td>\n",
       "      <td>11.291293</td>\n",
       "      <td>17.950000</td>\n",
       "      <td>737.000000</td>\n",
       "      <td>5730.000000</td>\n",
       "      <td>1.824950e+04</td>\n",
       "      <td>70.900000</td>\n",
       "      <td>2.000000</td>\n",
       "      <td>0.000000</td>\n",
       "      <td>0.000000</td>\n",
       "      <td>0.000000</td>\n",
       "    </tr>\n",
       "    <tr>\n",
       "      <th>max</th>\n",
       "      <td>1.000000</td>\n",
       "      <td>0.216400</td>\n",
       "      <td>940.140000</td>\n",
       "      <td>14.528354</td>\n",
       "      <td>29.960000</td>\n",
       "      <td>827.000000</td>\n",
       "      <td>17639.958330</td>\n",
       "      <td>1.207359e+06</td>\n",
       "      <td>119.000000</td>\n",
       "      <td>33.000000</td>\n",
       "      <td>13.000000</td>\n",
       "      <td>5.000000</td>\n",
       "      <td>1.000000</td>\n",
       "    </tr>\n",
       "  </tbody>\n",
       "</table>\n",
       "</div>"
      ],
      "text/plain": [
       "       credit.policy     int.rate  installment  log.annual.inc          dti  \\\n",
       "count    9578.000000  9578.000000  9578.000000     9578.000000  9578.000000   \n",
       "mean        0.804970     0.122640   319.089413       10.932117    12.606679   \n",
       "std         0.396245     0.026847   207.071301        0.614813     6.883970   \n",
       "min         0.000000     0.060000    15.670000        7.547502     0.000000   \n",
       "25%         1.000000     0.103900   163.770000       10.558414     7.212500   \n",
       "50%         1.000000     0.122100   268.950000       10.928884    12.665000   \n",
       "75%         1.000000     0.140700   432.762500       11.291293    17.950000   \n",
       "max         1.000000     0.216400   940.140000       14.528354    29.960000   \n",
       "\n",
       "              fico  days.with.cr.line     revol.bal   revol.util  \\\n",
       "count  9578.000000        9578.000000  9.578000e+03  9578.000000   \n",
       "mean    710.846314        4560.767197  1.691396e+04    46.799236   \n",
       "std      37.970537        2496.930377  3.375619e+04    29.014417   \n",
       "min     612.000000         178.958333  0.000000e+00     0.000000   \n",
       "25%     682.000000        2820.000000  3.187000e+03    22.600000   \n",
       "50%     707.000000        4139.958333  8.596000e+03    46.300000   \n",
       "75%     737.000000        5730.000000  1.824950e+04    70.900000   \n",
       "max     827.000000       17639.958330  1.207359e+06   119.000000   \n",
       "\n",
       "       inq.last.6mths  delinq.2yrs      pub.rec  not.fully.paid  \n",
       "count     9578.000000  9578.000000  9578.000000     9578.000000  \n",
       "mean         1.577469     0.163708     0.062122        0.160054  \n",
       "std          2.200245     0.546215     0.262126        0.366676  \n",
       "min          0.000000     0.000000     0.000000        0.000000  \n",
       "25%          0.000000     0.000000     0.000000        0.000000  \n",
       "50%          1.000000     0.000000     0.000000        0.000000  \n",
       "75%          2.000000     0.000000     0.000000        0.000000  \n",
       "max         33.000000    13.000000     5.000000        1.000000  "
      ]
     },
     "execution_count": 4,
     "metadata": {},
     "output_type": "execute_result"
    }
   ],
   "source": [
    "data.describe()"
   ]
  },
  {
   "cell_type": "code",
   "execution_count": 5,
   "id": "040680ba",
   "metadata": {
    "execution": {
     "iopub.execute_input": "2024-10-03T06:55:12.919347Z",
     "iopub.status.busy": "2024-10-03T06:55:12.918924Z",
     "iopub.status.idle": "2024-10-03T06:55:12.929516Z",
     "shell.execute_reply": "2024-10-03T06:55:12.928455Z"
    },
    "papermill": {
     "duration": 0.026392,
     "end_time": "2024-10-03T06:55:12.932170",
     "exception": false,
     "start_time": "2024-10-03T06:55:12.905778",
     "status": "completed"
    },
    "tags": []
   },
   "outputs": [
    {
     "data": {
      "text/plain": [
       "credit.policy        0\n",
       "purpose              0\n",
       "int.rate             0\n",
       "installment          0\n",
       "log.annual.inc       0\n",
       "dti                  0\n",
       "fico                 0\n",
       "days.with.cr.line    0\n",
       "revol.bal            0\n",
       "revol.util           0\n",
       "inq.last.6mths       0\n",
       "delinq.2yrs          0\n",
       "pub.rec              0\n",
       "not.fully.paid       0\n",
       "dtype: int64"
      ]
     },
     "execution_count": 5,
     "metadata": {},
     "output_type": "execute_result"
    }
   ],
   "source": [
    "data.isnull().sum()"
   ]
  },
  {
   "cell_type": "code",
   "execution_count": 6,
   "id": "2fcc3078",
   "metadata": {
    "execution": {
     "iopub.execute_input": "2024-10-03T06:55:12.957450Z",
     "iopub.status.busy": "2024-10-03T06:55:12.957049Z",
     "iopub.status.idle": "2024-10-03T06:55:12.974283Z",
     "shell.execute_reply": "2024-10-03T06:55:12.973236Z"
    },
    "papermill": {
     "duration": 0.03284,
     "end_time": "2024-10-03T06:55:12.976881",
     "exception": false,
     "start_time": "2024-10-03T06:55:12.944041",
     "status": "completed"
    },
    "tags": []
   },
   "outputs": [
    {
     "data": {
      "text/plain": [
       "count                   9578\n",
       "unique                     7\n",
       "top       debt_consolidation\n",
       "freq                    3957\n",
       "Name: purpose, dtype: object"
      ]
     },
     "execution_count": 6,
     "metadata": {},
     "output_type": "execute_result"
    }
   ],
   "source": [
    "data[\"purpose\"].describe()"
   ]
  },
  {
   "cell_type": "code",
   "execution_count": 7,
   "id": "b0612b98",
   "metadata": {
    "execution": {
     "iopub.execute_input": "2024-10-03T06:55:13.002922Z",
     "iopub.status.busy": "2024-10-03T06:55:13.002512Z",
     "iopub.status.idle": "2024-10-03T06:55:13.008718Z",
     "shell.execute_reply": "2024-10-03T06:55:13.007567Z"
    },
    "papermill": {
     "duration": 0.021682,
     "end_time": "2024-10-03T06:55:13.011118",
     "exception": false,
     "start_time": "2024-10-03T06:55:12.989436",
     "status": "completed"
    },
    "tags": []
   },
   "outputs": [],
   "source": [
    "new_data = pd.DataFrame(data[\"purpose\"])"
   ]
  },
  {
   "cell_type": "code",
   "execution_count": 8,
   "id": "c7e213bf",
   "metadata": {
    "execution": {
     "iopub.execute_input": "2024-10-03T06:55:13.036735Z",
     "iopub.status.busy": "2024-10-03T06:55:13.036296Z",
     "iopub.status.idle": "2024-10-03T06:55:13.043629Z",
     "shell.execute_reply": "2024-10-03T06:55:13.042471Z"
    },
    "papermill": {
     "duration": 0.022791,
     "end_time": "2024-10-03T06:55:13.045995",
     "exception": false,
     "start_time": "2024-10-03T06:55:13.023204",
     "status": "completed"
    },
    "tags": []
   },
   "outputs": [
    {
     "data": {
      "text/plain": [
       "dtype('O')"
      ]
     },
     "execution_count": 8,
     "metadata": {},
     "output_type": "execute_result"
    }
   ],
   "source": [
    "new_data[\"purpose\"].dtype"
   ]
  },
  {
   "cell_type": "code",
   "execution_count": 9,
   "id": "36779885",
   "metadata": {
    "execution": {
     "iopub.execute_input": "2024-10-03T06:55:13.071400Z",
     "iopub.status.busy": "2024-10-03T06:55:13.070957Z",
     "iopub.status.idle": "2024-10-03T06:55:13.077030Z",
     "shell.execute_reply": "2024-10-03T06:55:13.075931Z"
    },
    "papermill": {
     "duration": 0.02171,
     "end_time": "2024-10-03T06:55:13.079505",
     "exception": false,
     "start_time": "2024-10-03T06:55:13.057795",
     "status": "completed"
    },
    "tags": []
   },
   "outputs": [],
   "source": [
    "new_data[\"numeric\"] = new_data[\"purpose\"]"
   ]
  },
  {
   "cell_type": "code",
   "execution_count": 10,
   "id": "6069f2cc",
   "metadata": {
    "execution": {
     "iopub.execute_input": "2024-10-03T06:55:13.105358Z",
     "iopub.status.busy": "2024-10-03T06:55:13.104963Z",
     "iopub.status.idle": "2024-10-03T06:55:13.116093Z",
     "shell.execute_reply": "2024-10-03T06:55:13.114736Z"
    },
    "papermill": {
     "duration": 0.026898,
     "end_time": "2024-10-03T06:55:13.118513",
     "exception": false,
     "start_time": "2024-10-03T06:55:13.091615",
     "status": "completed"
    },
    "tags": []
   },
   "outputs": [],
   "source": [
    "new_data[\"numeric\"] = new_data[\"numeric\"].astype('category')"
   ]
  },
  {
   "cell_type": "code",
   "execution_count": 11,
   "id": "289a847e",
   "metadata": {
    "execution": {
     "iopub.execute_input": "2024-10-03T06:55:13.145449Z",
     "iopub.status.busy": "2024-10-03T06:55:13.144976Z",
     "iopub.status.idle": "2024-10-03T06:55:13.151011Z",
     "shell.execute_reply": "2024-10-03T06:55:13.149849Z"
    },
    "papermill": {
     "duration": 0.022406,
     "end_time": "2024-10-03T06:55:13.153439",
     "exception": false,
     "start_time": "2024-10-03T06:55:13.131033",
     "status": "completed"
    },
    "tags": []
   },
   "outputs": [],
   "source": [
    "new_data[\"numeric\"] = new_data[\"numeric\"].cat.codes"
   ]
  },
  {
   "cell_type": "code",
   "execution_count": 12,
   "id": "d318054d",
   "metadata": {
    "execution": {
     "iopub.execute_input": "2024-10-03T06:55:13.179664Z",
     "iopub.status.busy": "2024-10-03T06:55:13.179234Z",
     "iopub.status.idle": "2024-10-03T06:55:13.189588Z",
     "shell.execute_reply": "2024-10-03T06:55:13.188467Z"
    },
    "papermill": {
     "duration": 0.026652,
     "end_time": "2024-10-03T06:55:13.192240",
     "exception": false,
     "start_time": "2024-10-03T06:55:13.165588",
     "status": "completed"
    },
    "tags": []
   },
   "outputs": [
    {
     "data": {
      "text/html": [
       "<div>\n",
       "<style scoped>\n",
       "    .dataframe tbody tr th:only-of-type {\n",
       "        vertical-align: middle;\n",
       "    }\n",
       "\n",
       "    .dataframe tbody tr th {\n",
       "        vertical-align: top;\n",
       "    }\n",
       "\n",
       "    .dataframe thead th {\n",
       "        text-align: right;\n",
       "    }\n",
       "</style>\n",
       "<table border=\"1\" class=\"dataframe\">\n",
       "  <thead>\n",
       "    <tr style=\"text-align: right;\">\n",
       "      <th></th>\n",
       "      <th>purpose</th>\n",
       "      <th>numeric</th>\n",
       "    </tr>\n",
       "  </thead>\n",
       "  <tbody>\n",
       "    <tr>\n",
       "      <th>0</th>\n",
       "      <td>debt_consolidation</td>\n",
       "      <td>2</td>\n",
       "    </tr>\n",
       "    <tr>\n",
       "      <th>1</th>\n",
       "      <td>credit_card</td>\n",
       "      <td>1</td>\n",
       "    </tr>\n",
       "    <tr>\n",
       "      <th>2</th>\n",
       "      <td>debt_consolidation</td>\n",
       "      <td>2</td>\n",
       "    </tr>\n",
       "    <tr>\n",
       "      <th>3</th>\n",
       "      <td>debt_consolidation</td>\n",
       "      <td>2</td>\n",
       "    </tr>\n",
       "    <tr>\n",
       "      <th>4</th>\n",
       "      <td>credit_card</td>\n",
       "      <td>1</td>\n",
       "    </tr>\n",
       "  </tbody>\n",
       "</table>\n",
       "</div>"
      ],
      "text/plain": [
       "              purpose  numeric\n",
       "0  debt_consolidation        2\n",
       "1         credit_card        1\n",
       "2  debt_consolidation        2\n",
       "3  debt_consolidation        2\n",
       "4         credit_card        1"
      ]
     },
     "execution_count": 12,
     "metadata": {},
     "output_type": "execute_result"
    }
   ],
   "source": [
    "new_data.head()"
   ]
  },
  {
   "cell_type": "code",
   "execution_count": 13,
   "id": "0e6e0c82",
   "metadata": {
    "execution": {
     "iopub.execute_input": "2024-10-03T06:55:13.218555Z",
     "iopub.status.busy": "2024-10-03T06:55:13.218109Z",
     "iopub.status.idle": "2024-10-03T06:55:14.912810Z",
     "shell.execute_reply": "2024-10-03T06:55:14.911534Z"
    },
    "papermill": {
     "duration": 1.711423,
     "end_time": "2024-10-03T06:55:14.915791",
     "exception": false,
     "start_time": "2024-10-03T06:55:13.204368",
     "status": "completed"
    },
    "tags": []
   },
   "outputs": [],
   "source": [
    "import seaborn as sns\n",
    "from matplotlib import rcParams"
   ]
  },
  {
   "cell_type": "code",
   "execution_count": 14,
   "id": "c1f2e82d",
   "metadata": {
    "execution": {
     "iopub.execute_input": "2024-10-03T06:55:14.942796Z",
     "iopub.status.busy": "2024-10-03T06:55:14.942202Z",
     "iopub.status.idle": "2024-10-03T06:55:15.354776Z",
     "shell.execute_reply": "2024-10-03T06:55:15.353747Z"
    },
    "papermill": {
     "duration": 0.428702,
     "end_time": "2024-10-03T06:55:15.357468",
     "exception": false,
     "start_time": "2024-10-03T06:55:14.928766",
     "status": "completed"
    },
    "tags": []
   },
   "outputs": [
    {
     "name": "stderr",
     "output_type": "stream",
     "text": [
      "/opt/conda/lib/python3.10/site-packages/seaborn/_oldcore.py:1119: FutureWarning: use_inf_as_na option is deprecated and will be removed in a future version. Convert inf values to NaN before operating instead.\n",
      "  with pd.option_context('mode.use_inf_as_na', True):\n"
     ]
    },
    {
     "data": {
      "text/plain": [
       "[<matplotlib.axis.XTick at 0x79e76e629630>,\n",
       " <matplotlib.axis.XTick at 0x79e76e629660>,\n",
       " <matplotlib.axis.XTick at 0x79e76e3a6590>,\n",
       " <matplotlib.axis.XTick at 0x79e76e932bc0>,\n",
       " <matplotlib.axis.XTick at 0x79e76e933430>,\n",
       " <matplotlib.axis.XTick at 0x79e76e932110>,\n",
       " <matplotlib.axis.XTick at 0x79e76e930e50>]"
      ]
     },
     "execution_count": 14,
     "metadata": {},
     "output_type": "execute_result"
    },
    {
     "data": {
      "image/png": "[encoded data removed]",
      "text/plain": [
       "<Figure size 1170x827 with 1 Axes>"
      ]
     },
     "metadata": {},
     "output_type": "display_data"
    }
   ],
   "source": [
    "rcParams['figure.figsize'] = 11.7,8.27\n",
    "genderPlot = sns.histplot(new_data['purpose'], bins=2, discrete=True);\n",
    "genderPlot.set_xticks(data['purpose'].unique())"
   ]
  },
  {
   "cell_type": "code",
   "execution_count": 15,
   "id": "b62b4738",
   "metadata": {
    "execution": {
     "iopub.execute_input": "2024-10-03T06:55:15.385672Z",
     "iopub.status.busy": "2024-10-03T06:55:15.385121Z",
     "iopub.status.idle": "2024-10-03T06:55:15.663617Z",
     "shell.execute_reply": "2024-10-03T06:55:15.662499Z"
    },
    "papermill": {
     "duration": 0.295327,
     "end_time": "2024-10-03T06:55:15.666132",
     "exception": false,
     "start_time": "2024-10-03T06:55:15.370805",
     "status": "completed"
    },
    "tags": []
   },
   "outputs": [
    {
     "data": {
      "text/plain": [
       "<Axes: >"
      ]
     },
     "execution_count": 15,
     "metadata": {},
     "output_type": "execute_result"
    },
    {
     "data": {
      "image/png": "[encoded data removed]",
      "text/plain": [
       "<Figure size 1170x827 with 1 Axes>"
      ]
     },
     "metadata": {},
     "output_type": "display_data"
    }
   ],
   "source": [
    "import matplotlib.pyplot as plt\n",
    "\n",
    "new_data.plot(kind='box')"
   ]
  },
  {
   "cell_type": "code",
   "execution_count": 16,
   "id": "5ba08da4",
   "metadata": {
    "execution": {
     "iopub.execute_input": "2024-10-03T06:55:15.695245Z",
     "iopub.status.busy": "2024-10-03T06:55:15.694855Z",
     "iopub.status.idle": "2024-10-03T06:55:16.103600Z",
     "shell.execute_reply": "2024-10-03T06:55:16.102404Z"
    },
    "papermill": {
     "duration": 0.426841,
     "end_time": "2024-10-03T06:55:16.106480",
     "exception": false,
     "start_time": "2024-10-03T06:55:15.679639",
     "status": "completed"
    },
    "tags": []
   },
   "outputs": [
    {
     "data": {
      "image/png": "[encoded data removed]",
      "text/plain": [
       "<Figure size 1170x827 with 1 Axes>"
      ]
     },
     "metadata": {},
     "output_type": "display_data"
    }
   ],
   "source": [
    "rcParams['figure.figsize'] = 11.7,8.27\n",
    "sns.boxplot(data=data, x=\"purpose\", y=\"int.rate\")\n",
    "plt.show()"
   ]
  },
  {
   "cell_type": "code",
   "execution_count": 17,
   "id": "ceaba2e8",
   "metadata": {
    "execution": {
     "iopub.execute_input": "2024-10-03T06:55:16.137348Z",
     "iopub.status.busy": "2024-10-03T06:55:16.136469Z",
     "iopub.status.idle": "2024-10-03T06:55:16.151195Z",
     "shell.execute_reply": "2024-10-03T06:55:16.148956Z"
    },
    "papermill": {
     "duration": 0.033191,
     "end_time": "2024-10-03T06:55:16.154426",
     "exception": false,
     "start_time": "2024-10-03T06:55:16.121235",
     "status": "completed"
    },
    "tags": []
   },
   "outputs": [
    {
     "data": {
      "text/plain": [
       "credit.policy        0\n",
       "purpose              0\n",
       "int.rate             0\n",
       "installment          0\n",
       "log.annual.inc       0\n",
       "dti                  0\n",
       "fico                 0\n",
       "days.with.cr.line    0\n",
       "revol.bal            0\n",
       "revol.util           0\n",
       "inq.last.6mths       0\n",
       "delinq.2yrs          0\n",
       "pub.rec              0\n",
       "not.fully.paid       0\n",
       "dtype: int64"
      ]
     },
     "execution_count": 17,
     "metadata": {},
     "output_type": "execute_result"
    }
   ],
   "source": [
    "data.isna().sum()"
   ]
  },
  {
   "cell_type": "code",
   "execution_count": 18,
   "id": "7b30982b",
   "metadata": {
    "execution": {
     "iopub.execute_input": "2024-10-03T06:55:16.190894Z",
     "iopub.status.busy": "2024-10-03T06:55:16.189957Z",
     "iopub.status.idle": "2024-10-03T06:55:16.723856Z",
     "shell.execute_reply": "2024-10-03T06:55:16.722687Z"
    },
    "papermill": {
     "duration": 0.55263,
     "end_time": "2024-10-03T06:55:16.726332",
     "exception": false,
     "start_time": "2024-10-03T06:55:16.173702",
     "status": "completed"
    },
    "tags": []
   },
   "outputs": [
    {
     "data": {
      "image/png": "[encoded data removed]",
      "text/plain": [
       "<Figure size 1170x827 with 1 Axes>"
      ]
     },
     "metadata": {},
     "output_type": "display_data"
    }
   ],
   "source": [
    "rcParams['figure.figsize'] = 11.7,8.27\n",
    "sns.barplot(data=data, x=\"purpose\", y=\"not.fully.paid\")\n",
    "plt.show()"
   ]
  },
  {
   "cell_type": "code",
   "execution_count": 19,
   "id": "15236ee1",
   "metadata": {
    "execution": {
     "iopub.execute_input": "2024-10-03T06:55:16.758629Z",
     "iopub.status.busy": "2024-10-03T06:55:16.757627Z",
     "iopub.status.idle": "2024-10-03T06:55:16.771925Z",
     "shell.execute_reply": "2024-10-03T06:55:16.770867Z"
    },
    "papermill": {
     "duration": 0.032678,
     "end_time": "2024-10-03T06:55:16.774341",
     "exception": false,
     "start_time": "2024-10-03T06:55:16.741663",
     "status": "completed"
    },
    "tags": []
   },
   "outputs": [
    {
     "data": {
      "text/plain": [
       "6       debt_consolidation\n",
       "7                all_other\n",
       "57             credit_card\n",
       "65               all_other\n",
       "73          small_business\n",
       "               ...        \n",
       "7705      home_improvement\n",
       "7706        small_business\n",
       "7707             all_other\n",
       "7708      home_improvement\n",
       "7709        major_purchase\n",
       "Name: purpose, Length: 1014, dtype: object"
      ]
     },
     "execution_count": 19,
     "metadata": {},
     "output_type": "execute_result"
    }
   ],
   "source": [
    "data[(data['credit.policy'] == 1) & (data['not.fully.paid'])]['purpose']"
   ]
  },
  {
   "cell_type": "code",
   "execution_count": 20,
   "id": "3eb9505b",
   "metadata": {
    "execution": {
     "iopub.execute_input": "2024-10-03T06:55:16.806223Z",
     "iopub.status.busy": "2024-10-03T06:55:16.805796Z",
     "iopub.status.idle": "2024-10-03T06:55:16.816385Z",
     "shell.execute_reply": "2024-10-03T06:55:16.815189Z"
    },
    "papermill": {
     "duration": 0.029437,
     "end_time": "2024-10-03T06:55:16.818832",
     "exception": false,
     "start_time": "2024-10-03T06:55:16.789395",
     "status": "completed"
    },
    "tags": []
   },
   "outputs": [
    {
     "data": {
      "text/plain": [
       "1014"
      ]
     },
     "execution_count": 20,
     "metadata": {},
     "output_type": "execute_result"
    }
   ],
   "source": [
    "data[(data['credit.policy'] == 1) & (data['not.fully.paid'])]['purpose'].count()"
   ]
  },
  {
   "cell_type": "code",
   "execution_count": 21,
   "id": "560a564a",
   "metadata": {
    "execution": {
     "iopub.execute_input": "2024-10-03T06:55:16.851103Z",
     "iopub.status.busy": "2024-10-03T06:55:16.850691Z",
     "iopub.status.idle": "2024-10-03T06:55:53.108863Z",
     "shell.execute_reply": "2024-10-03T06:55:53.107535Z"
    },
    "papermill": {
     "duration": 36.29282,
     "end_time": "2024-10-03T06:55:53.126903",
     "exception": false,
     "start_time": "2024-10-03T06:55:16.834083",
     "status": "completed"
    },
    "tags": []
   },
   "outputs": [
    {
     "name": "stdout",
     "output_type": "stream",
     "text": [
      "Requirement already satisfied: pandasql in /opt/conda/lib/python3.10/site-packages (0.7.3)\r\n",
      "Requirement already satisfied: numpy in /opt/conda/lib/python3.10/site-packages (from pandasql) (1.26.4)\r\n",
      "Requirement already satisfied: pandas in /opt/conda/lib/python3.10/site-packages (from pandasql) (2.2.2)\r\n",
      "Requirement already satisfied: sqlalchemy in /opt/conda/lib/python3.10/site-packages (from pandasql) (2.0.30)\r\n",
      "Requirement already satisfied: python-dateutil>=2.8.2 in /opt/conda/lib/python3.10/site-packages (from pandas->pandasql) (2.9.0.post0)\r\n",
      "Requirement already satisfied: pytz>=2020.1 in /opt/conda/lib/python3.10/site-packages (from pandas->pandasql) (2024.1)\r\n",
      "Requirement already satisfied: tzdata>=2022.7 in /opt/conda/lib/python3.10/site-packages (from pandas->pandasql) (2024.1)\r\n",
      "Requirement already satisfied: typing-extensions>=4.6.0 in /opt/conda/lib/python3.10/site-packages (from sqlalchemy->pandasql) (4.12.2)\r\n",
      "Requirement already satisfied: greenlet!=0.4.17 in /opt/conda/lib/python3.10/site-packages (from sqlalchemy->pandasql) (3.0.3)\r\n",
      "Requirement already satisfied: six>=1.5 in /opt/conda/lib/python3.10/site-packages (from python-dateutil>=2.8.2->pandas->pandasql) (1.16.0)\r\n",
      "Note: you may need to restart the kernel to use updated packages.\n"
     ]
    }
   ],
   "source": [
    "pip install pandasql"
   ]
  },
  {
   "cell_type": "code",
   "execution_count": 22,
   "id": "261feeea",
   "metadata": {
    "execution": {
     "iopub.execute_input": "2024-10-03T06:55:53.160682Z",
     "iopub.status.busy": "2024-10-03T06:55:53.160211Z",
     "iopub.status.idle": "2024-10-03T06:55:53.891420Z",
     "shell.execute_reply": "2024-10-03T06:55:53.890266Z"
    },
    "papermill": {
     "duration": 0.751376,
     "end_time": "2024-10-03T06:55:53.894096",
     "exception": false,
     "start_time": "2024-10-03T06:55:53.142720",
     "status": "completed"
    },
    "tags": []
   },
   "outputs": [],
   "source": [
    "from pandasql import sqldf"
   ]
  },
  {
   "cell_type": "code",
   "execution_count": 23,
   "id": "0c7d624e",
   "metadata": {
    "execution": {
     "iopub.execute_input": "2024-10-03T06:55:53.927961Z",
     "iopub.status.busy": "2024-10-03T06:55:53.927017Z",
     "iopub.status.idle": "2024-10-03T06:55:54.552760Z",
     "shell.execute_reply": "2024-10-03T06:55:54.551727Z"
    },
    "papermill": {
     "duration": 0.645739,
     "end_time": "2024-10-03T06:55:54.555676",
     "exception": false,
     "start_time": "2024-10-03T06:55:53.909937",
     "status": "completed"
    },
    "tags": []
   },
   "outputs": [
    {
     "name": "stdout",
     "output_type": "stream",
     "text": [
      "   credit.policy             purpose  int.rate  installment  log.annual.inc  \\\n",
      "0              1  debt_consolidation    0.1189       829.10       11.350407   \n",
      "1              1         credit_card    0.1071       228.22       11.082143   \n",
      "2              1  debt_consolidation    0.1357       366.86       10.373491   \n",
      "3              1  debt_consolidation    0.1008       162.34       11.350407   \n",
      "4              1         credit_card    0.1426       102.92       11.299732   \n",
      "\n",
      "     dti  fico  days.with.cr.line  revol.bal  revol.util  inq.last.6mths  \\\n",
      "0  19.48   737        5639.958333      28854        52.1               0   \n",
      "1  14.29   707        2760.000000      33623        76.7               0   \n",
      "2  11.63   682        4710.000000       3511        25.6               1   \n",
      "3   8.10   712        2699.958333      33667        73.2               1   \n",
      "4  14.97   667        4066.000000       4740        39.5               0   \n",
      "\n",
      "   delinq.2yrs  pub.rec  not.fully.paid  \n",
      "0            0        0               0  \n",
      "1            0        0               0  \n",
      "2            0        0               0  \n",
      "3            0        0               0  \n",
      "4            1        0               0  \n"
     ]
    }
   ],
   "source": [
    "print(sqldf('''select * from data LIMIT 5;'''))"
   ]
  },
  {
   "cell_type": "code",
   "execution_count": 24,
   "id": "97f49287",
   "metadata": {
    "execution": {
     "iopub.execute_input": "2024-10-03T06:55:54.589580Z",
     "iopub.status.busy": "2024-10-03T06:55:54.589112Z",
     "iopub.status.idle": "2024-10-03T06:55:54.815075Z",
     "shell.execute_reply": "2024-10-03T06:55:54.813907Z"
    },
    "papermill": {
     "duration": 0.246082,
     "end_time": "2024-10-03T06:55:54.817807",
     "exception": false,
     "start_time": "2024-10-03T06:55:54.571725",
     "status": "completed"
    },
    "tags": []
   },
   "outputs": [
    {
     "name": "stdout",
     "output_type": "stream",
     "text": [
      "       purpose  COUNT(`not.fully.paid`)\n",
      "0  credit_card                     1262\n"
     ]
    }
   ],
   "source": [
    "print(sqldf('''SELECT `purpose`, COUNT(`not.fully.paid`) FROM data\n",
    "where `purpose` = 'credit_card'\n",
    "group by `purpose`;'''))"
   ]
  },
  {
   "cell_type": "code",
   "execution_count": 25,
   "id": "8e021577",
   "metadata": {
    "execution": {
     "iopub.execute_input": "2024-10-03T06:55:54.851396Z",
     "iopub.status.busy": "2024-10-03T06:55:54.850974Z",
     "iopub.status.idle": "2024-10-03T06:55:54.858446Z",
     "shell.execute_reply": "2024-10-03T06:55:54.857395Z"
    },
    "papermill": {
     "duration": 0.026848,
     "end_time": "2024-10-03T06:55:54.860711",
     "exception": false,
     "start_time": "2024-10-03T06:55:54.833863",
     "status": "completed"
    },
    "tags": []
   },
   "outputs": [
    {
     "data": {
      "text/plain": [
       "Index(['credit.policy', 'purpose', 'int.rate', 'installment', 'log.annual.inc',\n",
       "       'dti', 'fico', 'days.with.cr.line', 'revol.bal', 'revol.util',\n",
       "       'inq.last.6mths', 'delinq.2yrs', 'pub.rec', 'not.fully.paid'],\n",
       "      dtype='object')"
      ]
     },
     "execution_count": 25,
     "metadata": {},
     "output_type": "execute_result"
    }
   ],
   "source": [
    "data.columns"
   ]
  },
  {
   "cell_type": "markdown",
   "id": "581d9d93",
   "metadata": {
    "papermill": {
     "duration": 0.015577,
     "end_time": "2024-10-03T06:55:54.892166",
     "exception": false,
     "start_time": "2024-10-03T06:55:54.876589",
     "status": "completed"
    },
    "tags": []
   },
   "source": [
    "Logistic Regression"
   ]
  },
  {
   "cell_type": "code",
   "execution_count": 26,
   "id": "b7568014",
   "metadata": {
    "execution": {
     "iopub.execute_input": "2024-10-03T06:55:54.925749Z",
     "iopub.status.busy": "2024-10-03T06:55:54.925264Z",
     "iopub.status.idle": "2024-10-03T06:55:55.293157Z",
     "shell.execute_reply": "2024-10-03T06:55:55.292054Z"
    },
    "papermill": {
     "duration": 0.388175,
     "end_time": "2024-10-03T06:55:55.296163",
     "exception": false,
     "start_time": "2024-10-03T06:55:54.907988",
     "status": "completed"
    },
    "tags": []
   },
   "outputs": [],
   "source": [
    "from sklearn.model_selection import train_test_split\n",
    "from sklearn.linear_model import LogisticRegression\n",
    "from sklearn.metrics import accuracy_score, confusion_matrix, classification_report"
   ]
  },
  {
   "cell_type": "code",
   "execution_count": 27,
   "id": "ccb7714d",
   "metadata": {
    "execution": {
     "iopub.execute_input": "2024-10-03T06:55:55.330239Z",
     "iopub.status.busy": "2024-10-03T06:55:55.329830Z",
     "iopub.status.idle": "2024-10-03T06:55:55.340458Z",
     "shell.execute_reply": "2024-10-03T06:55:55.339473Z"
    },
    "papermill": {
     "duration": 0.030533,
     "end_time": "2024-10-03T06:55:55.342894",
     "exception": false,
     "start_time": "2024-10-03T06:55:55.312361",
     "status": "completed"
    },
    "tags": []
   },
   "outputs": [],
   "source": [
    "data = pd.get_dummies(data, columns=['purpose'], drop_first=True)"
   ]
  },
  {
   "cell_type": "code",
   "execution_count": 28,
   "id": "0b24d732",
   "metadata": {
    "execution": {
     "iopub.execute_input": "2024-10-03T06:55:55.377030Z",
     "iopub.status.busy": "2024-10-03T06:55:55.376599Z",
     "iopub.status.idle": "2024-10-03T06:55:55.383392Z",
     "shell.execute_reply": "2024-10-03T06:55:55.382367Z"
    },
    "papermill": {
     "duration": 0.026777,
     "end_time": "2024-10-03T06:55:55.385871",
     "exception": false,
     "start_time": "2024-10-03T06:55:55.359094",
     "status": "completed"
    },
    "tags": []
   },
   "outputs": [],
   "source": [
    "X = data.drop('not.fully.paid', axis=1)\n",
    "y = data['not.fully.paid']"
   ]
  },
  {
   "cell_type": "code",
   "execution_count": 29,
   "id": "f0eaa5d9",
   "metadata": {
    "execution": {
     "iopub.execute_input": "2024-10-03T06:55:55.420857Z",
     "iopub.status.busy": "2024-10-03T06:55:55.419625Z",
     "iopub.status.idle": "2024-10-03T06:55:55.430516Z",
     "shell.execute_reply": "2024-10-03T06:55:55.429348Z"
    },
    "papermill": {
     "duration": 0.030957,
     "end_time": "2024-10-03T06:55:55.433236",
     "exception": false,
     "start_time": "2024-10-03T06:55:55.402279",
     "status": "completed"
    },
    "tags": []
   },
   "outputs": [],
   "source": [
    "X_train, X_test, y_train, y_test = train_test_split(X,y, test_size=0.2, random_state=42)"
   ]
  },
  {
   "cell_type": "code",
   "execution_count": 30,
   "id": "2ba24ec2",
   "metadata": {
    "execution": {
     "iopub.execute_input": "2024-10-03T06:55:55.467612Z",
     "iopub.status.busy": "2024-10-03T06:55:55.466754Z",
     "iopub.status.idle": "2024-10-03T06:55:55.578331Z",
     "shell.execute_reply": "2024-10-03T06:55:55.576910Z"
    },
    "papermill": {
     "duration": 0.133217,
     "end_time": "2024-10-03T06:55:55.582285",
     "exception": false,
     "start_time": "2024-10-03T06:55:55.449068",
     "status": "completed"
    },
    "tags": []
   },
   "outputs": [
    {
     "data": {
      "text/html": [
       "<style>#sk-container-id-1 {color: black;background-color: white;}#sk-container-id-1 pre{padding: 0;}#sk-container-id-1 div.sk-toggleable {background-color: white;}#sk-container-id-1 label.sk-toggleable__label {cursor: pointer;display: block;width: 100%;margin-bottom: 0;padding: 0.3em;box-sizing: border-box;text-align: center;}#sk-container-id-1 label.sk-toggleable__label-arrow:before {content: \"▸\";float: left;margin-right: 0.25em;color: #696969;}#sk-container-id-1 label.sk-toggleable__label-arrow:hover:before {color: black;}#sk-container-id-1 div.sk-estimator:hover label.sk-toggleable__label-arrow:before {color: black;}#sk-container-id-1 div.sk-toggleable__content {max-height: 0;max-width: 0;overflow: hidden;text-align: left;background-color: #f0f8ff;}#sk-container-id-1 div.sk-toggleable__content pre {margin: 0.2em;color: black;border-radius: 0.25em;background-color: #f0f8ff;}#sk-container-id-1 input.sk-toggleable__control:checked~div.sk-toggleable__content {max-height: 200px;max-width: 100%;overflow: auto;}#sk-container-id-1 input.sk-toggleable__control:checked~label.sk-toggleable__label-arrow:before {content: \"▾\";}#sk-container-id-1 div.sk-estimator input.sk-toggleable__control:checked~label.sk-toggleable__label {background-color: #d4ebff;}#sk-container-id-1 div.sk-label input.sk-toggleable__control:checked~label.sk-toggleable__label {background-color: #d4ebff;}#sk-container-id-1 input.sk-hidden--visually {border: 0;clip: rect(1px 1px 1px 1px);clip: rect(1px, 1px, 1px, 1px);height: 1px;margin: -1px;overflow: hidden;padding: 0;position: absolute;width: 1px;}#sk-container-id-1 div.sk-estimator {font-family: monospace;background-color: #f0f8ff;border: 1px dotted black;border-radius: 0.25em;box-sizing: border-box;margin-bottom: 0.5em;}#sk-container-id-1 div.sk-estimator:hover {background-color: #d4ebff;}#sk-container-id-1 div.sk-parallel-item::after {content: \"\";width: 100%;border-bottom: 1px solid gray;flex-grow: 1;}#sk-container-id-1 div.sk-label:hover label.sk-toggleable__label {background-color: #d4ebff;}#sk-container-id-1 div.sk-serial::before {content: \"\";position: absolute;border-left: 1px solid gray;box-sizing: border-box;top: 0;bottom: 0;left: 50%;z-index: 0;}#sk-container-id-1 div.sk-serial {display: flex;flex-direction: column;align-items: center;background-color: white;padding-right: 0.2em;padding-left: 0.2em;position: relative;}#sk-container-id-1 div.sk-item {position: relative;z-index: 1;}#sk-container-id-1 div.sk-parallel {display: flex;align-items: stretch;justify-content: center;background-color: white;position: relative;}#sk-container-id-1 div.sk-item::before, #sk-container-id-1 div.sk-parallel-item::before {content: \"\";position: absolute;border-left: 1px solid gray;box-sizing: border-box;top: 0;bottom: 0;left: 50%;z-index: -1;}#sk-container-id-1 div.sk-parallel-item {display: flex;flex-direction: column;z-index: 1;position: relative;background-color: white;}#sk-container-id-1 div.sk-parallel-item:first-child::after {align-self: flex-end;width: 50%;}#sk-container-id-1 div.sk-parallel-item:last-child::after {align-self: flex-start;width: 50%;}#sk-container-id-1 div.sk-parallel-item:only-child::after {width: 0;}#sk-container-id-1 div.sk-dashed-wrapped {border: 1px dashed gray;margin: 0 0.4em 0.5em 0.4em;box-sizing: border-box;padding-bottom: 0.4em;background-color: white;}#sk-container-id-1 div.sk-label label {font-family: monospace;font-weight: bold;display: inline-block;line-height: 1.2em;}#sk-container-id-1 div.sk-label-container {text-align: center;}#sk-container-id-1 div.sk-container {/* jupyter's `normalize.less` sets `[hidden] { display: none; }` but bootstrap.min.css set `[hidden] { display: none !important; }` so we also need the `!important` here to be able to override the default hidden behavior on the sphinx rendered scikit-learn.org. See: https://github.com/scikit-learn/scikit-learn/issues/21755 */display: inline-block !important;position: relative;}#sk-container-id-1 div.sk-text-repr-fallback {display: none;}</style><div id=\"sk-container-id-1\" class=\"sk-top-container\"><div class=\"sk-text-repr-fallback\"><pre>LogisticRegression(max_iter=1000)</pre><b>In a Jupyter environment, please rerun this cell to show the HTML representation or trust the notebook. <br />On GitHub, the HTML representation is unable to render, please try loading this page with nbviewer.org.</b></div><div class=\"sk-container\" hidden><div class=\"sk-item\"><div class=\"sk-estimator sk-toggleable\"><input class=\"sk-toggleable__control sk-hidden--visually\" id=\"sk-estimator-id-1\" type=\"checkbox\" checked><label for=\"sk-estimator-id-1\" class=\"sk-toggleable__label sk-toggleable__label-arrow\">LogisticRegression</label><div class=\"sk-toggleable__content\"><pre>LogisticRegression(max_iter=1000)</pre></div></div></div></div></div>"
      ],
      "text/plain": [
       "LogisticRegression(max_iter=1000)"
      ]
     },
     "execution_count": 30,
     "metadata": {},
     "output_type": "execute_result"
    }
   ],
   "source": [
    "model = LogisticRegression(max_iter=1000)\n",
    "model.fit(X_train, y_train)"
   ]
  },
  {
   "cell_type": "code",
   "execution_count": 31,
   "id": "5f185e8b",
   "metadata": {
    "execution": {
     "iopub.execute_input": "2024-10-03T06:55:55.655829Z",
     "iopub.status.busy": "2024-10-03T06:55:55.655068Z",
     "iopub.status.idle": "2024-10-03T06:55:55.669104Z",
     "shell.execute_reply": "2024-10-03T06:55:55.667535Z"
    },
    "papermill": {
     "duration": 0.054935,
     "end_time": "2024-10-03T06:55:55.673172",
     "exception": false,
     "start_time": "2024-10-03T06:55:55.618237",
     "status": "completed"
    },
    "tags": []
   },
   "outputs": [],
   "source": [
    "y_pred = model.predict(X_test)"
   ]
  },
  {
   "cell_type": "code",
   "execution_count": 32,
   "id": "e9d92c1f",
   "metadata": {
    "execution": {
     "iopub.execute_input": "2024-10-03T06:55:55.744111Z",
     "iopub.status.busy": "2024-10-03T06:55:55.743353Z",
     "iopub.status.idle": "2024-10-03T06:55:55.782852Z",
     "shell.execute_reply": "2024-10-03T06:55:55.781368Z"
    },
    "papermill": {
     "duration": 0.079704,
     "end_time": "2024-10-03T06:55:55.786738",
     "exception": false,
     "start_time": "2024-10-03T06:55:55.707034",
     "status": "completed"
    },
    "tags": []
   },
   "outputs": [
    {
     "name": "stdout",
     "output_type": "stream",
     "text": [
      "Accuracy: 0.8413361169102297\n",
      "Confusion Matrix:\n",
      "[[1611    0]\n",
      " [ 304    1]]\n",
      "Classification Report:\n",
      "              precision    recall  f1-score   support\n",
      "\n",
      "           0       0.84      1.00      0.91      1611\n",
      "           1       1.00      0.00      0.01       305\n",
      "\n",
      "    accuracy                           0.84      1916\n",
      "   macro avg       0.92      0.50      0.46      1916\n",
      "weighted avg       0.87      0.84      0.77      1916\n",
      "\n"
     ]
    }
   ],
   "source": [
    "accuracy = accuracy_score(y_test, y_pred)\n",
    "conf_matrix = confusion_matrix(y_test, y_pred)\n",
    "class_report = classification_report(y_test, y_pred)\n",
    "\n",
    "print(f\"Accuracy: {accuracy}\")\n",
    "print(\"Confusion Matrix:\")\n",
    "print(conf_matrix)\n",
    "print(\"Classification Report:\")\n",
    "print(class_report)"
   ]
  }
 ],
 "metadata": {
  "kaggle": {
   "accelerator": "none",
   "dataSources": [
    {
     "datasetId": 1340957,
     "sourceId": 2232033,
     "sourceType": "datasetVersion"
    }
   ],
   "dockerImageVersionId": 30761,
   "isGpuEnabled": false,
   "isInternetEnabled": false,
   "language": "python",
   "sourceType": "notebook"
  },
  "kernelspec": {
   "display_name": "Python 3",
   "language": "python",
   "name": "python3"
  },
  "language_info": {
   "codemirror_mode": {
    "name": "ipython",
    "version": 3
   },
   "file_extension": ".py",
   "mimetype": "text/x-python",
   "name": "python",
   "nbconvert_exporter": "python",
   "pygments_lexer": "ipython3",
   "version": "3.10.14"
  },
  "papermill": {
   "default_parameters": {},
   "duration": 47.754532,
   "end_time": "2024-10-03T06:55:56.529909",
   "environment_variables": {},
   "exception": null,
   "input_path": "__notebook__.ipynb",
   "output_path": "__notebook__.ipynb",
   "parameters": {},
   "start_time": "2024-10-03T06:55:08.775377",
   "version": "2.6.0"
  }
 },
 "nbformat": 4,
 "nbformat_minor": 5
}
