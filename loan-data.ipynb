{
 "cells": [
  {
   "cell_type": "code",
   "execution_count": 1,
   "id": "050f45d9",
   "metadata": {
    "_cell_guid": "b1076dfc-b9ad-4769-8c92-a6c4dae69d19",
    "_uuid": "8f2839f25d086af736a60e9eeb907d3b93b6e0e5",
    "execution": {
     "iopub.execute_input": "2024-09-25T09:42:13.689517Z",
     "iopub.status.busy": "2024-09-25T09:42:13.689021Z",
     "iopub.status.idle": "2024-09-25T09:42:14.775275Z",
     "shell.execute_reply": "2024-09-25T09:42:14.773808Z"
    },
    "papermill": {
     "duration": 1.100295,
     "end_time": "2024-09-25T09:42:14.778492",
     "exception": false,
     "start_time": "2024-09-25T09:42:13.678197",
     "status": "completed"
    },
    "tags": []
   },
   "outputs": [
    {
     "name": "stdout",
     "output_type": "stream",
     "text": [
      "/kaggle/input/loan-data/loan_data.csv\n"
     ]
    }
   ],
   "source": [
    "# This Python 3 environment comes with many helpful analytics libraries installed\n",
    "# It is defined by the kaggle/python Docker image: https://github.com/kaggle/docker-python\n",
    "# For example, here's several helpful packages to load\n",
    "\n",
    "import numpy as np # linear algebra\n",
    "import pandas as pd # data processing, CSV file I/O (e.g. pd.read_csv)\n",
    "\n",
    "# Input data files are available in the read-only \"../input/\" directory\n",
    "# For example, running this (by clicking run or pressing Shift+Enter) will list all files under the input directory\n",
    "\n",
    "import os\n",
    "for dirname, _, filenames in os.walk('/kaggle/input'):\n",
    "    for filename in filenames:\n",
    "        print(os.path.join(dirname, filename))\n",
    "\n",
    "# You can write up to 20GB to the current directory (/kaggle/working/) that gets preserved as output when you create a version using \"Save & Run All\" \n",
    "# You can also write temporary files to /kaggle/temp/, but they won't be saved outside of the current session"
   ]
  },
  {
   "cell_type": "code",
   "execution_count": 2,
   "id": "60cf9c65",
   "metadata": {
    "execution": {
     "iopub.execute_input": "2024-09-25T09:42:14.801670Z",
     "iopub.status.busy": "2024-09-25T09:42:14.800908Z",
     "iopub.status.idle": "2024-09-25T09:42:14.812286Z",
     "shell.execute_reply": "2024-09-25T09:42:14.810925Z"
    },
    "papermill": {
     "duration": 0.024437,
     "end_time": "2024-09-25T09:42:14.815140",
     "exception": false,
     "start_time": "2024-09-25T09:42:14.790703",
     "status": "completed"
    },
    "tags": []
   },
   "outputs": [
    {
     "data": {
      "text/plain": [
       "['loan_data.csv']"
      ]
     },
     "execution_count": 2,
     "metadata": {},
     "output_type": "execute_result"
    }
   ],
   "source": [
    "os.listdir(\"/kaggle/input/loan-data\")"
   ]
  },
  {
   "cell_type": "code",
   "execution_count": 3,
   "id": "b75345eb",
   "metadata": {
    "execution": {
     "iopub.execute_input": "2024-09-25T09:42:14.835346Z",
     "iopub.status.busy": "2024-09-25T09:42:14.834176Z",
     "iopub.status.idle": "2024-09-25T09:42:14.923475Z",
     "shell.execute_reply": "2024-09-25T09:42:14.922000Z"
    },
    "papermill": {
     "duration": 0.102507,
     "end_time": "2024-09-25T09:42:14.926279",
     "exception": false,
     "start_time": "2024-09-25T09:42:14.823772",
     "status": "completed"
    },
    "tags": []
   },
   "outputs": [
    {
     "data": {
      "text/html": [
       "<div>\n",
       "<style scoped>\n",
       "    .dataframe tbody tr th:only-of-type {\n",
       "        vertical-align: middle;\n",
       "    }\n",
       "\n",
       "    .dataframe tbody tr th {\n",
       "        vertical-align: top;\n",
       "    }\n",
       "\n",
       "    .dataframe thead th {\n",
       "        text-align: right;\n",
       "    }\n",
       "</style>\n",
       "<table border=\"1\" class=\"dataframe\">\n",
       "  <thead>\n",
       "    <tr style=\"text-align: right;\">\n",
       "      <th></th>\n",
       "      <th>credit.policy</th>\n",
       "      <th>purpose</th>\n",
       "      <th>int.rate</th>\n",
       "      <th>installment</th>\n",
       "      <th>log.annual.inc</th>\n",
       "      <th>dti</th>\n",
       "      <th>fico</th>\n",
       "      <th>days.with.cr.line</th>\n",
       "      <th>revol.bal</th>\n",
       "      <th>revol.util</th>\n",
       "      <th>inq.last.6mths</th>\n",
       "      <th>delinq.2yrs</th>\n",
       "      <th>pub.rec</th>\n",
       "      <th>not.fully.paid</th>\n",
       "    </tr>\n",
       "  </thead>\n",
       "  <tbody>\n",
       "    <tr>\n",
       "      <th>0</th>\n",
       "      <td>1</td>\n",
       "      <td>debt_consolidation</td>\n",
       "      <td>0.1189</td>\n",
       "      <td>829.10</td>\n",
       "      <td>11.350407</td>\n",
       "      <td>19.48</td>\n",
       "      <td>737</td>\n",
       "      <td>5639.958333</td>\n",
       "      <td>28854</td>\n",
       "      <td>52.1</td>\n",
       "      <td>0</td>\n",
       "      <td>0</td>\n",
       "      <td>0</td>\n",
       "      <td>0</td>\n",
       "    </tr>\n",
       "    <tr>\n",
       "      <th>1</th>\n",
       "      <td>1</td>\n",
       "      <td>credit_card</td>\n",
       "      <td>0.1071</td>\n",
       "      <td>228.22</td>\n",
       "      <td>11.082143</td>\n",
       "      <td>14.29</td>\n",
       "      <td>707</td>\n",
       "      <td>2760.000000</td>\n",
       "      <td>33623</td>\n",
       "      <td>76.7</td>\n",
       "      <td>0</td>\n",
       "      <td>0</td>\n",
       "      <td>0</td>\n",
       "      <td>0</td>\n",
       "    </tr>\n",
       "    <tr>\n",
       "      <th>2</th>\n",
       "      <td>1</td>\n",
       "      <td>debt_consolidation</td>\n",
       "      <td>0.1357</td>\n",
       "      <td>366.86</td>\n",
       "      <td>10.373491</td>\n",
       "      <td>11.63</td>\n",
       "      <td>682</td>\n",
       "      <td>4710.000000</td>\n",
       "      <td>3511</td>\n",
       "      <td>25.6</td>\n",
       "      <td>1</td>\n",
       "      <td>0</td>\n",
       "      <td>0</td>\n",
       "      <td>0</td>\n",
       "    </tr>\n",
       "    <tr>\n",
       "      <th>3</th>\n",
       "      <td>1</td>\n",
       "      <td>debt_consolidation</td>\n",
       "      <td>0.1008</td>\n",
       "      <td>162.34</td>\n",
       "      <td>11.350407</td>\n",
       "      <td>8.10</td>\n",
       "      <td>712</td>\n",
       "      <td>2699.958333</td>\n",
       "      <td>33667</td>\n",
       "      <td>73.2</td>\n",
       "      <td>1</td>\n",
       "      <td>0</td>\n",
       "      <td>0</td>\n",
       "      <td>0</td>\n",
       "    </tr>\n",
       "    <tr>\n",
       "      <th>4</th>\n",
       "      <td>1</td>\n",
       "      <td>credit_card</td>\n",
       "      <td>0.1426</td>\n",
       "      <td>102.92</td>\n",
       "      <td>11.299732</td>\n",
       "      <td>14.97</td>\n",
       "      <td>667</td>\n",
       "      <td>4066.000000</td>\n",
       "      <td>4740</td>\n",
       "      <td>39.5</td>\n",
       "      <td>0</td>\n",
       "      <td>1</td>\n",
       "      <td>0</td>\n",
       "      <td>0</td>\n",
       "    </tr>\n",
       "  </tbody>\n",
       "</table>\n",
       "</div>"
      ],
      "text/plain": [
       "   credit.policy             purpose  int.rate  installment  log.annual.inc  \\\n",
       "0              1  debt_consolidation    0.1189       829.10       11.350407   \n",
       "1              1         credit_card    0.1071       228.22       11.082143   \n",
       "2              1  debt_consolidation    0.1357       366.86       10.373491   \n",
       "3              1  debt_consolidation    0.1008       162.34       11.350407   \n",
       "4              1         credit_card    0.1426       102.92       11.299732   \n",
       "\n",
       "     dti  fico  days.with.cr.line  revol.bal  revol.util  inq.last.6mths  \\\n",
       "0  19.48   737        5639.958333      28854        52.1               0   \n",
       "1  14.29   707        2760.000000      33623        76.7               0   \n",
       "2  11.63   682        4710.000000       3511        25.6               1   \n",
       "3   8.10   712        2699.958333      33667        73.2               1   \n",
       "4  14.97   667        4066.000000       4740        39.5               0   \n",
       "\n",
       "   delinq.2yrs  pub.rec  not.fully.paid  \n",
       "0            0        0               0  \n",
       "1            0        0               0  \n",
       "2            0        0               0  \n",
       "3            0        0               0  \n",
       "4            1        0               0  "
      ]
     },
     "execution_count": 3,
     "metadata": {},
     "output_type": "execute_result"
    }
   ],
   "source": [
    "data = pd.read_csv('/kaggle/input/loan-data/loan_data.csv')\n",
    "data.head()"
   ]
  },
  {
   "cell_type": "code",
   "execution_count": 4,
   "id": "33906097",
   "metadata": {
    "execution": {
     "iopub.execute_input": "2024-09-25T09:42:14.947547Z",
     "iopub.status.busy": "2024-09-25T09:42:14.946385Z",
     "iopub.status.idle": "2024-09-25T09:42:15.013358Z",
     "shell.execute_reply": "2024-09-25T09:42:15.011915Z"
    },
    "papermill": {
     "duration": 0.080383,
     "end_time": "2024-09-25T09:42:15.016235",
     "exception": false,
     "start_time": "2024-09-25T09:42:14.935852",
     "status": "completed"
    },
    "tags": []
   },
   "outputs": [
    {
     "data": {
      "text/html": [
       "<div>\n",
       "<style scoped>\n",
       "    .dataframe tbody tr th:only-of-type {\n",
       "        vertical-align: middle;\n",
       "    }\n",
       "\n",
       "    .dataframe tbody tr th {\n",
       "        vertical-align: top;\n",
       "    }\n",
       "\n",
       "    .dataframe thead th {\n",
       "        text-align: right;\n",
       "    }\n",
       "</style>\n",
       "<table border=\"1\" class=\"dataframe\">\n",
       "  <thead>\n",
       "    <tr style=\"text-align: right;\">\n",
       "      <th></th>\n",
       "      <th>credit.policy</th>\n",
       "      <th>int.rate</th>\n",
       "      <th>installment</th>\n",
       "      <th>log.annual.inc</th>\n",
       "      <th>dti</th>\n",
       "      <th>fico</th>\n",
       "      <th>days.with.cr.line</th>\n",
       "      <th>revol.bal</th>\n",
       "      <th>revol.util</th>\n",
       "      <th>inq.last.6mths</th>\n",
       "      <th>delinq.2yrs</th>\n",
       "      <th>pub.rec</th>\n",
       "      <th>not.fully.paid</th>\n",
       "    </tr>\n",
       "  </thead>\n",
       "  <tbody>\n",
       "    <tr>\n",
       "      <th>count</th>\n",
       "      <td>9578.000000</td>\n",
       "      <td>9578.000000</td>\n",
       "      <td>9578.000000</td>\n",
       "      <td>9578.000000</td>\n",
       "      <td>9578.000000</td>\n",
       "      <td>9578.000000</td>\n",
       "      <td>9578.000000</td>\n",
       "      <td>9.578000e+03</td>\n",
       "      <td>9578.000000</td>\n",
       "      <td>9578.000000</td>\n",
       "      <td>9578.000000</td>\n",
       "      <td>9578.000000</td>\n",
       "      <td>9578.000000</td>\n",
       "    </tr>\n",
       "    <tr>\n",
       "      <th>mean</th>\n",
       "      <td>0.804970</td>\n",
       "      <td>0.122640</td>\n",
       "      <td>319.089413</td>\n",
       "      <td>10.932117</td>\n",
       "      <td>12.606679</td>\n",
       "      <td>710.846314</td>\n",
       "      <td>4560.767197</td>\n",
       "      <td>1.691396e+04</td>\n",
       "      <td>46.799236</td>\n",
       "      <td>1.577469</td>\n",
       "      <td>0.163708</td>\n",
       "      <td>0.062122</td>\n",
       "      <td>0.160054</td>\n",
       "    </tr>\n",
       "    <tr>\n",
       "      <th>std</th>\n",
       "      <td>0.396245</td>\n",
       "      <td>0.026847</td>\n",
       "      <td>207.071301</td>\n",
       "      <td>0.614813</td>\n",
       "      <td>6.883970</td>\n",
       "      <td>37.970537</td>\n",
       "      <td>2496.930377</td>\n",
       "      <td>3.375619e+04</td>\n",
       "      <td>29.014417</td>\n",
       "      <td>2.200245</td>\n",
       "      <td>0.546215</td>\n",
       "      <td>0.262126</td>\n",
       "      <td>0.366676</td>\n",
       "    </tr>\n",
       "    <tr>\n",
       "      <th>min</th>\n",
       "      <td>0.000000</td>\n",
       "      <td>0.060000</td>\n",
       "      <td>15.670000</td>\n",
       "      <td>7.547502</td>\n",
       "      <td>0.000000</td>\n",
       "      <td>612.000000</td>\n",
       "      <td>178.958333</td>\n",
       "      <td>0.000000e+00</td>\n",
       "      <td>0.000000</td>\n",
       "      <td>0.000000</td>\n",
       "      <td>0.000000</td>\n",
       "      <td>0.000000</td>\n",
       "      <td>0.000000</td>\n",
       "    </tr>\n",
       "    <tr>\n",
       "      <th>25%</th>\n",
       "      <td>1.000000</td>\n",
       "      <td>0.103900</td>\n",
       "      <td>163.770000</td>\n",
       "      <td>10.558414</td>\n",
       "      <td>7.212500</td>\n",
       "      <td>682.000000</td>\n",
       "      <td>2820.000000</td>\n",
       "      <td>3.187000e+03</td>\n",
       "      <td>22.600000</td>\n",
       "      <td>0.000000</td>\n",
       "      <td>0.000000</td>\n",
       "      <td>0.000000</td>\n",
       "      <td>0.000000</td>\n",
       "    </tr>\n",
       "    <tr>\n",
       "      <th>50%</th>\n",
       "      <td>1.000000</td>\n",
       "      <td>0.122100</td>\n",
       "      <td>268.950000</td>\n",
       "      <td>10.928884</td>\n",
       "      <td>12.665000</td>\n",
       "      <td>707.000000</td>\n",
       "      <td>4139.958333</td>\n",
       "      <td>8.596000e+03</td>\n",
       "      <td>46.300000</td>\n",
       "      <td>1.000000</td>\n",
       "      <td>0.000000</td>\n",
       "      <td>0.000000</td>\n",
       "      <td>0.000000</td>\n",
       "    </tr>\n",
       "    <tr>\n",
       "      <th>75%</th>\n",
       "      <td>1.000000</td>\n",
       "      <td>0.140700</td>\n",
       "      <td>432.762500</td>\n",
       "      <td>11.291293</td>\n",
       "      <td>17.950000</td>\n",
       "      <td>737.000000</td>\n",
       "      <td>5730.000000</td>\n",
       "      <td>1.824950e+04</td>\n",
       "      <td>70.900000</td>\n",
       "      <td>2.000000</td>\n",
       "      <td>0.000000</td>\n",
       "      <td>0.000000</td>\n",
       "      <td>0.000000</td>\n",
       "    </tr>\n",
       "    <tr>\n",
       "      <th>max</th>\n",
       "      <td>1.000000</td>\n",
       "      <td>0.216400</td>\n",
       "      <td>940.140000</td>\n",
       "      <td>14.528354</td>\n",
       "      <td>29.960000</td>\n",
       "      <td>827.000000</td>\n",
       "      <td>17639.958330</td>\n",
       "      <td>1.207359e+06</td>\n",
       "      <td>119.000000</td>\n",
       "      <td>33.000000</td>\n",
       "      <td>13.000000</td>\n",
       "      <td>5.000000</td>\n",
       "      <td>1.000000</td>\n",
       "    </tr>\n",
       "  </tbody>\n",
       "</table>\n",
       "</div>"
      ],
      "text/plain": [
       "       credit.policy     int.rate  installment  log.annual.inc          dti  \\\n",
       "count    9578.000000  9578.000000  9578.000000     9578.000000  9578.000000   \n",
       "mean        0.804970     0.122640   319.089413       10.932117    12.606679   \n",
       "std         0.396245     0.026847   207.071301        0.614813     6.883970   \n",
       "min         0.000000     0.060000    15.670000        7.547502     0.000000   \n",
       "25%         1.000000     0.103900   163.770000       10.558414     7.212500   \n",
       "50%         1.000000     0.122100   268.950000       10.928884    12.665000   \n",
       "75%         1.000000     0.140700   432.762500       11.291293    17.950000   \n",
       "max         1.000000     0.216400   940.140000       14.528354    29.960000   \n",
       "\n",
       "              fico  days.with.cr.line     revol.bal   revol.util  \\\n",
       "count  9578.000000        9578.000000  9.578000e+03  9578.000000   \n",
       "mean    710.846314        4560.767197  1.691396e+04    46.799236   \n",
       "std      37.970537        2496.930377  3.375619e+04    29.014417   \n",
       "min     612.000000         178.958333  0.000000e+00     0.000000   \n",
       "25%     682.000000        2820.000000  3.187000e+03    22.600000   \n",
       "50%     707.000000        4139.958333  8.596000e+03    46.300000   \n",
       "75%     737.000000        5730.000000  1.824950e+04    70.900000   \n",
       "max     827.000000       17639.958330  1.207359e+06   119.000000   \n",
       "\n",
       "       inq.last.6mths  delinq.2yrs      pub.rec  not.fully.paid  \n",
       "count     9578.000000  9578.000000  9578.000000     9578.000000  \n",
       "mean         1.577469     0.163708     0.062122        0.160054  \n",
       "std          2.200245     0.546215     0.262126        0.366676  \n",
       "min          0.000000     0.000000     0.000000        0.000000  \n",
       "25%          0.000000     0.000000     0.000000        0.000000  \n",
       "50%          1.000000     0.000000     0.000000        0.000000  \n",
       "75%          2.000000     0.000000     0.000000        0.000000  \n",
       "max         33.000000    13.000000     5.000000        1.000000  "
      ]
     },
     "execution_count": 4,
     "metadata": {},
     "output_type": "execute_result"
    }
   ],
   "source": [
    "data.describe()"
   ]
  },
  {
   "cell_type": "code",
   "execution_count": 5,
   "id": "de39acf3",
   "metadata": {
    "execution": {
     "iopub.execute_input": "2024-09-25T09:42:15.037738Z",
     "iopub.status.busy": "2024-09-25T09:42:15.037307Z",
     "iopub.status.idle": "2024-09-25T09:42:15.050949Z",
     "shell.execute_reply": "2024-09-25T09:42:15.049542Z"
    },
    "papermill": {
     "duration": 0.028023,
     "end_time": "2024-09-25T09:42:15.053991",
     "exception": false,
     "start_time": "2024-09-25T09:42:15.025968",
     "status": "completed"
    },
    "tags": []
   },
   "outputs": [
    {
     "data": {
      "text/plain": [
       "credit.policy        0\n",
       "purpose              0\n",
       "int.rate             0\n",
       "installment          0\n",
       "log.annual.inc       0\n",
       "dti                  0\n",
       "fico                 0\n",
       "days.with.cr.line    0\n",
       "revol.bal            0\n",
       "revol.util           0\n",
       "inq.last.6mths       0\n",
       "delinq.2yrs          0\n",
       "pub.rec              0\n",
       "not.fully.paid       0\n",
       "dtype: int64"
      ]
     },
     "execution_count": 5,
     "metadata": {},
     "output_type": "execute_result"
    }
   ],
   "source": [
    "data.isnull().sum()"
   ]
  },
  {
   "cell_type": "code",
   "execution_count": 6,
   "id": "fe7a1a8e",
   "metadata": {
    "execution": {
     "iopub.execute_input": "2024-09-25T09:42:15.076257Z",
     "iopub.status.busy": "2024-09-25T09:42:15.075707Z",
     "iopub.status.idle": "2024-09-25T09:42:15.095888Z",
     "shell.execute_reply": "2024-09-25T09:42:15.094512Z"
    },
    "papermill": {
     "duration": 0.035286,
     "end_time": "2024-09-25T09:42:15.098895",
     "exception": false,
     "start_time": "2024-09-25T09:42:15.063609",
     "status": "completed"
    },
    "tags": []
   },
   "outputs": [
    {
     "data": {
      "text/plain": [
       "count                   9578\n",
       "unique                     7\n",
       "top       debt_consolidation\n",
       "freq                    3957\n",
       "Name: purpose, dtype: object"
      ]
     },
     "execution_count": 6,
     "metadata": {},
     "output_type": "execute_result"
    }
   ],
   "source": [
    "data[\"purpose\"].describe()"
   ]
  },
  {
   "cell_type": "code",
   "execution_count": 7,
   "id": "986f1ea8",
   "metadata": {
    "execution": {
     "iopub.execute_input": "2024-09-25T09:42:15.120267Z",
     "iopub.status.busy": "2024-09-25T09:42:15.119814Z",
     "iopub.status.idle": "2024-09-25T09:42:15.126184Z",
     "shell.execute_reply": "2024-09-25T09:42:15.125019Z"
    },
    "papermill": {
     "duration": 0.020522,
     "end_time": "2024-09-25T09:42:15.129127",
     "exception": false,
     "start_time": "2024-09-25T09:42:15.108605",
     "status": "completed"
    },
    "tags": []
   },
   "outputs": [],
   "source": [
    "new_data = pd.DataFrame(data[\"purpose\"])"
   ]
  },
  {
   "cell_type": "code",
   "execution_count": 8,
   "id": "399ee753",
   "metadata": {
    "execution": {
     "iopub.execute_input": "2024-09-25T09:42:15.154130Z",
     "iopub.status.busy": "2024-09-25T09:42:15.153589Z",
     "iopub.status.idle": "2024-09-25T09:42:15.162572Z",
     "shell.execute_reply": "2024-09-25T09:42:15.161385Z"
    },
    "papermill": {
     "duration": 0.023037,
     "end_time": "2024-09-25T09:42:15.165188",
     "exception": false,
     "start_time": "2024-09-25T09:42:15.142151",
     "status": "completed"
    },
    "tags": []
   },
   "outputs": [
    {
     "data": {
      "text/plain": [
       "dtype('O')"
      ]
     },
     "execution_count": 8,
     "metadata": {},
     "output_type": "execute_result"
    }
   ],
   "source": [
    "new_data[\"purpose\"].dtype"
   ]
  },
  {
   "cell_type": "code",
   "execution_count": 9,
   "id": "fac275c0",
   "metadata": {
    "execution": {
     "iopub.execute_input": "2024-09-25T09:42:15.187031Z",
     "iopub.status.busy": "2024-09-25T09:42:15.186596Z",
     "iopub.status.idle": "2024-09-25T09:42:15.193538Z",
     "shell.execute_reply": "2024-09-25T09:42:15.192028Z"
    },
    "papermill": {
     "duration": 0.021292,
     "end_time": "2024-09-25T09:42:15.196519",
     "exception": false,
     "start_time": "2024-09-25T09:42:15.175227",
     "status": "completed"
    },
    "tags": []
   },
   "outputs": [],
   "source": [
    "new_data[\"numeric\"] = new_data[\"purpose\"]"
   ]
  },
  {
   "cell_type": "code",
   "execution_count": 10,
   "id": "a9dd1ac2",
   "metadata": {
    "execution": {
     "iopub.execute_input": "2024-09-25T09:42:15.223145Z",
     "iopub.status.busy": "2024-09-25T09:42:15.222025Z",
     "iopub.status.idle": "2024-09-25T09:42:15.234456Z",
     "shell.execute_reply": "2024-09-25T09:42:15.233163Z"
    },
    "papermill": {
     "duration": 0.027036,
     "end_time": "2024-09-25T09:42:15.237420",
     "exception": false,
     "start_time": "2024-09-25T09:42:15.210384",
     "status": "completed"
    },
    "tags": []
   },
   "outputs": [],
   "source": [
    "new_data[\"numeric\"] = new_data[\"numeric\"].astype('category')"
   ]
  },
  {
   "cell_type": "code",
   "execution_count": 11,
   "id": "95cb5dcd",
   "metadata": {
    "execution": {
     "iopub.execute_input": "2024-09-25T09:42:15.259741Z",
     "iopub.status.busy": "2024-09-25T09:42:15.258721Z",
     "iopub.status.idle": "2024-09-25T09:42:15.265856Z",
     "shell.execute_reply": "2024-09-25T09:42:15.264531Z"
    },
    "papermill": {
     "duration": 0.021312,
     "end_time": "2024-09-25T09:42:15.268502",
     "exception": false,
     "start_time": "2024-09-25T09:42:15.247190",
     "status": "completed"
    },
    "tags": []
   },
   "outputs": [],
   "source": [
    "new_data[\"numeric\"] = new_data[\"numeric\"].cat.codes"
   ]
  },
  {
   "cell_type": "code",
   "execution_count": 12,
   "id": "34ca21fc",
   "metadata": {
    "execution": {
     "iopub.execute_input": "2024-09-25T09:42:15.291017Z",
     "iopub.status.busy": "2024-09-25T09:42:15.290020Z",
     "iopub.status.idle": "2024-09-25T09:42:15.301981Z",
     "shell.execute_reply": "2024-09-25T09:42:15.300380Z"
    },
    "papermill": {
     "duration": 0.026763,
     "end_time": "2024-09-25T09:42:15.305167",
     "exception": false,
     "start_time": "2024-09-25T09:42:15.278404",
     "status": "completed"
    },
    "tags": []
   },
   "outputs": [
    {
     "data": {
      "text/html": [
       "<div>\n",
       "<style scoped>\n",
       "    .dataframe tbody tr th:only-of-type {\n",
       "        vertical-align: middle;\n",
       "    }\n",
       "\n",
       "    .dataframe tbody tr th {\n",
       "        vertical-align: top;\n",
       "    }\n",
       "\n",
       "    .dataframe thead th {\n",
       "        text-align: right;\n",
       "    }\n",
       "</style>\n",
       "<table border=\"1\" class=\"dataframe\">\n",
       "  <thead>\n",
       "    <tr style=\"text-align: right;\">\n",
       "      <th></th>\n",
       "      <th>purpose</th>\n",
       "      <th>numeric</th>\n",
       "    </tr>\n",
       "  </thead>\n",
       "  <tbody>\n",
       "    <tr>\n",
       "      <th>0</th>\n",
       "      <td>debt_consolidation</td>\n",
       "      <td>2</td>\n",
       "    </tr>\n",
       "    <tr>\n",
       "      <th>1</th>\n",
       "      <td>credit_card</td>\n",
       "      <td>1</td>\n",
       "    </tr>\n",
       "    <tr>\n",
       "      <th>2</th>\n",
       "      <td>debt_consolidation</td>\n",
       "      <td>2</td>\n",
       "    </tr>\n",
       "    <tr>\n",
       "      <th>3</th>\n",
       "      <td>debt_consolidation</td>\n",
       "      <td>2</td>\n",
       "    </tr>\n",
       "    <tr>\n",
       "      <th>4</th>\n",
       "      <td>credit_card</td>\n",
       "      <td>1</td>\n",
       "    </tr>\n",
       "  </tbody>\n",
       "</table>\n",
       "</div>"
      ],
      "text/plain": [
       "              purpose  numeric\n",
       "0  debt_consolidation        2\n",
       "1         credit_card        1\n",
       "2  debt_consolidation        2\n",
       "3  debt_consolidation        2\n",
       "4         credit_card        1"
      ]
     },
     "execution_count": 12,
     "metadata": {},
     "output_type": "execute_result"
    }
   ],
   "source": [
    "new_data.head()"
   ]
  },
  {
   "cell_type": "code",
   "execution_count": 13,
   "id": "46b3fb3c",
   "metadata": {
    "execution": {
     "iopub.execute_input": "2024-09-25T09:42:15.329233Z",
     "iopub.status.busy": "2024-09-25T09:42:15.328028Z",
     "iopub.status.idle": "2024-09-25T09:42:17.250921Z",
     "shell.execute_reply": "2024-09-25T09:42:17.249699Z"
    },
    "papermill": {
     "duration": 1.938184,
     "end_time": "2024-09-25T09:42:17.254051",
     "exception": false,
     "start_time": "2024-09-25T09:42:15.315867",
     "status": "completed"
    },
    "tags": []
   },
   "outputs": [],
   "source": [
    "import seaborn as sns\n",
    "from matplotlib import rcParams"
   ]
  },
  {
   "cell_type": "code",
   "execution_count": 14,
   "id": "9de06158",
   "metadata": {
    "execution": {
     "iopub.execute_input": "2024-09-25T09:42:17.278196Z",
     "iopub.status.busy": "2024-09-25T09:42:17.277567Z",
     "iopub.status.idle": "2024-09-25T09:42:17.703634Z",
     "shell.execute_reply": "2024-09-25T09:42:17.702139Z"
    },
    "papermill": {
     "duration": 0.440668,
     "end_time": "2024-09-25T09:42:17.706286",
     "exception": false,
     "start_time": "2024-09-25T09:42:17.265618",
     "status": "completed"
    },
    "tags": []
   },
   "outputs": [
    {
     "name": "stderr",
     "output_type": "stream",
     "text": [
      "/opt/conda/lib/python3.10/site-packages/seaborn/_oldcore.py:1119: FutureWarning: use_inf_as_na option is deprecated and will be removed in a future version. Convert inf values to NaN before operating instead.\n",
      "  with pd.option_context('mode.use_inf_as_na', True):\n"
     ]
    },
    {
     "data": {
      "text/plain": [
       "[<matplotlib.axis.XTick at 0x788fb23e29e0>,\n",
       " <matplotlib.axis.XTick at 0x788fb23e29b0>,\n",
       " <matplotlib.axis.XTick at 0x788fb216a590>,\n",
       " <matplotlib.axis.XTick at 0x788fb2549450>,\n",
       " <matplotlib.axis.XTick at 0x788fb2548be0>,\n",
       " <matplotlib.axis.XTick at 0x788fb2549f00>,\n",
       " <matplotlib.axis.XTick at 0x788fb254b1c0>]"
      ]
     },
     "execution_count": 14,
     "metadata": {},
     "output_type": "execute_result"
    },
    {
     "data": {
      "image/png": "[encoded data removed]",
      "text/plain": [
       "<Figure size 1170x827 with 1 Axes>"
      ]
     },
     "metadata": {},
     "output_type": "display_data"
    }
   ],
   "source": [
    "rcParams['figure.figsize'] = 11.7,8.27\n",
    "genderPlot = sns.histplot(new_data['purpose'], bins=2, discrete=True);\n",
    "genderPlot.set_xticks(data['purpose'].unique())"
   ]
  },
  {
   "cell_type": "code",
   "execution_count": 15,
   "id": "674a246b",
   "metadata": {
    "execution": {
     "iopub.execute_input": "2024-09-25T09:42:17.729955Z",
     "iopub.status.busy": "2024-09-25T09:42:17.729496Z",
     "iopub.status.idle": "2024-09-25T09:42:18.019282Z",
     "shell.execute_reply": "2024-09-25T09:42:18.017812Z"
    },
    "papermill": {
     "duration": 0.304954,
     "end_time": "2024-09-25T09:42:18.022253",
     "exception": false,
     "start_time": "2024-09-25T09:42:17.717299",
     "status": "completed"
    },
    "tags": []
   },
   "outputs": [
    {
     "data": {
      "text/plain": [
       "<Axes: >"
      ]
     },
     "execution_count": 15,
     "metadata": {},
     "output_type": "execute_result"
    },
    {
     "data": {
      "image/png": "[encoded data removed]",
      "text/plain": [
       "<Figure size 1170x827 with 1 Axes>"
      ]
     },
     "metadata": {},
     "output_type": "display_data"
    }
   ],
   "source": [
    "import matplotlib.pyplot as plt\n",
    "\n",
    "new_data.plot(kind='box')"
   ]
  },
  {
   "cell_type": "code",
   "execution_count": 16,
   "id": "cd5bb227",
   "metadata": {
    "execution": {
     "iopub.execute_input": "2024-09-25T09:42:18.047982Z",
     "iopub.status.busy": "2024-09-25T09:42:18.047543Z",
     "iopub.status.idle": "2024-09-25T09:42:18.373410Z",
     "shell.execute_reply": "2024-09-25T09:42:18.372265Z"
    },
    "papermill": {
     "duration": 0.34272,
     "end_time": "2024-09-25T09:42:18.376341",
     "exception": false,
     "start_time": "2024-09-25T09:42:18.033621",
     "status": "completed"
    },
    "tags": []
   },
   "outputs": [
    {
     "data": {
      "image/png": "[encoded data removed]",
      "text/plain": [
       "<Figure size 1170x827 with 1 Axes>"
      ]
     },
     "metadata": {},
     "output_type": "display_data"
    }
   ],
   "source": [
    "rcParams['figure.figsize'] = 11.7,8.27\n",
    "sns.boxplot(data=data, x=\"purpose\", y=\"int.rate\")\n",
    "plt.show()"
   ]
  },
  {
   "cell_type": "code",
   "execution_count": 17,
   "id": "f8031fb8",
   "metadata": {
    "execution": {
     "iopub.execute_input": "2024-09-25T09:42:18.402004Z",
     "iopub.status.busy": "2024-09-25T09:42:18.401567Z",
     "iopub.status.idle": "2024-09-25T09:42:18.413214Z",
     "shell.execute_reply": "2024-09-25T09:42:18.412151Z"
    },
    "papermill": {
     "duration": 0.027531,
     "end_time": "2024-09-25T09:42:18.415836",
     "exception": false,
     "start_time": "2024-09-25T09:42:18.388305",
     "status": "completed"
    },
    "tags": []
   },
   "outputs": [
    {
     "data": {
      "text/plain": [
       "credit.policy        0\n",
       "purpose              0\n",
       "int.rate             0\n",
       "installment          0\n",
       "log.annual.inc       0\n",
       "dti                  0\n",
       "fico                 0\n",
       "days.with.cr.line    0\n",
       "revol.bal            0\n",
       "revol.util           0\n",
       "inq.last.6mths       0\n",
       "delinq.2yrs          0\n",
       "pub.rec              0\n",
       "not.fully.paid       0\n",
       "dtype: int64"
      ]
     },
     "execution_count": 17,
     "metadata": {},
     "output_type": "execute_result"
    }
   ],
   "source": [
    "data.isna().sum()"
   ]
  },
  {
   "cell_type": "code",
   "execution_count": 18,
   "id": "23e4182b",
   "metadata": {
    "execution": {
     "iopub.execute_input": "2024-09-25T09:42:18.441998Z",
     "iopub.status.busy": "2024-09-25T09:42:18.441575Z",
     "iopub.status.idle": "2024-09-25T09:42:18.989089Z",
     "shell.execute_reply": "2024-09-25T09:42:18.987852Z"
    },
    "papermill": {
     "duration": 0.563747,
     "end_time": "2024-09-25T09:42:18.991963",
     "exception": false,
     "start_time": "2024-09-25T09:42:18.428216",
     "status": "completed"
    },
    "tags": []
   },
   "outputs": [
    {
     "data": {
      "image/png": "[encoded data removed]",
      "text/plain": [
       "<Figure size 1170x827 with 1 Axes>"
      ]
     },
     "metadata": {},
     "output_type": "display_data"
    }
   ],
   "source": [
    "rcParams['figure.figsize'] = 11.7,8.27\n",
    "sns.barplot(data=data, x=\"purpose\", y=\"not.fully.paid\")\n",
    "plt.show()"
   ]
  },
  {
   "cell_type": "code",
   "execution_count": 19,
   "id": "0377df9e",
   "metadata": {
    "execution": {
     "iopub.execute_input": "2024-09-25T09:42:19.019339Z",
     "iopub.status.busy": "2024-09-25T09:42:19.018898Z",
     "iopub.status.idle": "2024-09-25T09:42:19.034267Z",
     "shell.execute_reply": "2024-09-25T09:42:19.033018Z"
    },
    "papermill": {
     "duration": 0.032869,
     "end_time": "2024-09-25T09:42:19.037335",
     "exception": false,
     "start_time": "2024-09-25T09:42:19.004466",
     "status": "completed"
    },
    "tags": []
   },
   "outputs": [
    {
     "data": {
      "text/plain": [
       "6       debt_consolidation\n",
       "7                all_other\n",
       "57             credit_card\n",
       "65               all_other\n",
       "73          small_business\n",
       "               ...        \n",
       "7705      home_improvement\n",
       "7706        small_business\n",
       "7707             all_other\n",
       "7708      home_improvement\n",
       "7709        major_purchase\n",
       "Name: purpose, Length: 1014, dtype: object"
      ]
     },
     "execution_count": 19,
     "metadata": {},
     "output_type": "execute_result"
    }
   ],
   "source": [
    "data[(data['credit.policy'] == 1) & (data['not.fully.paid'])]['purpose']"
   ]
  },
  {
   "cell_type": "code",
   "execution_count": 20,
   "id": "baa32123",
   "metadata": {
    "execution": {
     "iopub.execute_input": "2024-09-25T09:42:19.066611Z",
     "iopub.status.busy": "2024-09-25T09:42:19.065240Z",
     "iopub.status.idle": "2024-09-25T09:42:19.076690Z",
     "shell.execute_reply": "2024-09-25T09:42:19.075231Z"
    },
    "papermill": {
     "duration": 0.028972,
     "end_time": "2024-09-25T09:42:19.079512",
     "exception": false,
     "start_time": "2024-09-25T09:42:19.050540",
     "status": "completed"
    },
    "tags": []
   },
   "outputs": [
    {
     "data": {
      "text/plain": [
       "1014"
      ]
     },
     "execution_count": 20,
     "metadata": {},
     "output_type": "execute_result"
    }
   ],
   "source": [
    "data[(data['credit.policy'] == 1) & (data['not.fully.paid'])]['purpose'].count()"
   ]
  },
  {
   "cell_type": "code",
   "execution_count": 21,
   "id": "90d97756",
   "metadata": {
    "execution": {
     "iopub.execute_input": "2024-09-25T09:42:19.107717Z",
     "iopub.status.busy": "2024-09-25T09:42:19.107267Z",
     "iopub.status.idle": "2024-09-25T09:42:57.124310Z",
     "shell.execute_reply": "2024-09-25T09:42:57.122914Z"
    },
    "papermill": {
     "duration": 38.047202,
     "end_time": "2024-09-25T09:42:57.139663",
     "exception": false,
     "start_time": "2024-09-25T09:42:19.092461",
     "status": "completed"
    },
    "tags": []
   },
   "outputs": [
    {
     "name": "stdout",
     "output_type": "stream",
     "text": [
      "Requirement already satisfied: pandasql in /opt/conda/lib/python3.10/site-packages (0.7.3)\r\n",
      "Requirement already satisfied: numpy in /opt/conda/lib/python3.10/site-packages (from pandasql) (1.26.4)\r\n",
      "Requirement already satisfied: pandas in /opt/conda/lib/python3.10/site-packages (from pandasql) (2.2.2)\r\n",
      "Requirement already satisfied: sqlalchemy in /opt/conda/lib/python3.10/site-packages (from pandasql) (2.0.30)\r\n",
      "Requirement already satisfied: python-dateutil>=2.8.2 in /opt/conda/lib/python3.10/site-packages (from pandas->pandasql) (2.9.0.post0)\r\n",
      "Requirement already satisfied: pytz>=2020.1 in /opt/conda/lib/python3.10/site-packages (from pandas->pandasql) (2024.1)\r\n",
      "Requirement already satisfied: tzdata>=2022.7 in /opt/conda/lib/python3.10/site-packages (from pandas->pandasql) (2024.1)\r\n",
      "Requirement already satisfied: typing-extensions>=4.6.0 in /opt/conda/lib/python3.10/site-packages (from sqlalchemy->pandasql) (4.12.2)\r\n",
      "Requirement already satisfied: greenlet!=0.4.17 in /opt/conda/lib/python3.10/site-packages (from sqlalchemy->pandasql) (3.0.3)\r\n",
      "Requirement already satisfied: six>=1.5 in /opt/conda/lib/python3.10/site-packages (from python-dateutil>=2.8.2->pandas->pandasql) (1.16.0)\r\n",
      "Note: you may need to restart the kernel to use updated packages.\n"
     ]
    }
   ],
   "source": [
    "pip install pandasql"
   ]
  },
  {
   "cell_type": "code",
   "execution_count": 22,
   "id": "f8ac710e",
   "metadata": {
    "execution": {
     "iopub.execute_input": "2024-09-25T09:42:57.168966Z",
     "iopub.status.busy": "2024-09-25T09:42:57.168466Z",
     "iopub.status.idle": "2024-09-25T09:42:57.972021Z",
     "shell.execute_reply": "2024-09-25T09:42:57.970811Z"
    },
    "papermill": {
     "duration": 0.821988,
     "end_time": "2024-09-25T09:42:57.975032",
     "exception": false,
     "start_time": "2024-09-25T09:42:57.153044",
     "status": "completed"
    },
    "tags": []
   },
   "outputs": [],
   "source": [
    "from pandasql import sqldf"
   ]
  },
  {
   "cell_type": "code",
   "execution_count": 23,
   "id": "6094cad2",
   "metadata": {
    "execution": {
     "iopub.execute_input": "2024-09-25T09:42:58.006628Z",
     "iopub.status.busy": "2024-09-25T09:42:58.005625Z",
     "iopub.status.idle": "2024-09-25T09:42:58.648939Z",
     "shell.execute_reply": "2024-09-25T09:42:58.647591Z"
    },
    "papermill": {
     "duration": 0.663341,
     "end_time": "2024-09-25T09:42:58.651899",
     "exception": false,
     "start_time": "2024-09-25T09:42:57.988558",
     "status": "completed"
    },
    "tags": []
   },
   "outputs": [
    {
     "name": "stdout",
     "output_type": "stream",
     "text": [
      "   credit.policy             purpose  int.rate  installment  log.annual.inc  \\\n",
      "0              1  debt_consolidation    0.1189       829.10       11.350407   \n",
      "1              1         credit_card    0.1071       228.22       11.082143   \n",
      "2              1  debt_consolidation    0.1357       366.86       10.373491   \n",
      "3              1  debt_consolidation    0.1008       162.34       11.350407   \n",
      "4              1         credit_card    0.1426       102.92       11.299732   \n",
      "\n",
      "     dti  fico  days.with.cr.line  revol.bal  revol.util  inq.last.6mths  \\\n",
      "0  19.48   737        5639.958333      28854        52.1               0   \n",
      "1  14.29   707        2760.000000      33623        76.7               0   \n",
      "2  11.63   682        4710.000000       3511        25.6               1   \n",
      "3   8.10   712        2699.958333      33667        73.2               1   \n",
      "4  14.97   667        4066.000000       4740        39.5               0   \n",
      "\n",
      "   delinq.2yrs  pub.rec  not.fully.paid  \n",
      "0            0        0               0  \n",
      "1            0        0               0  \n",
      "2            0        0               0  \n",
      "3            0        0               0  \n",
      "4            1        0               0  \n"
     ]
    }
   ],
   "source": [
    "print(sqldf('''select * from data LIMIT 5;'''))"
   ]
  },
  {
   "cell_type": "code",
   "execution_count": 24,
   "id": "0930f4f1",
   "metadata": {
    "execution": {
     "iopub.execute_input": "2024-09-25T09:42:58.680812Z",
     "iopub.status.busy": "2024-09-25T09:42:58.680340Z",
     "iopub.status.idle": "2024-09-25T09:42:58.919037Z",
     "shell.execute_reply": "2024-09-25T09:42:58.917513Z"
    },
    "papermill": {
     "duration": 0.256299,
     "end_time": "2024-09-25T09:42:58.921910",
     "exception": false,
     "start_time": "2024-09-25T09:42:58.665611",
     "status": "completed"
    },
    "tags": []
   },
   "outputs": [
    {
     "name": "stdout",
     "output_type": "stream",
     "text": [
      "       purpose  COUNT(`not.fully.paid`)\n",
      "0  credit_card                     1262\n"
     ]
    }
   ],
   "source": [
    "print(sqldf('''SELECT `purpose`, COUNT(`not.fully.paid`) FROM data\n",
    "where `purpose` = 'credit_card'\n",
    "group by `purpose`;'''))"
   ]
  }
 ],
 "metadata": {
  "kaggle": {
   "accelerator": "none",
   "dataSources": [
    {
     "datasetId": 1340957,
     "sourceId": 2232033,
     "sourceType": "datasetVersion"
    }
   ],
   "dockerImageVersionId": 30761,
   "isGpuEnabled": false,
   "isInternetEnabled": false,
   "language": "python",
   "sourceType": "notebook"
  },
  "kernelspec": {
   "display_name": "Python 3",
   "language": "python",
   "name": "python3"
  },
  "language_info": {
   "codemirror_mode": {
    "name": "ipython",
    "version": 3
   },
   "file_extension": ".py",
   "mimetype": "text/x-python",
   "name": "python",
   "nbconvert_exporter": "python",
   "pygments_lexer": "ipython3",
   "version": "3.10.14"
  },
  "papermill": {
   "default_parameters": {},
   "duration": 49.793768,
   "end_time": "2024-09-25T09:42:59.759307",
   "environment_variables": {},
   "exception": null,
   "input_path": "__notebook__.ipynb",
   "output_path": "__notebook__.ipynb",
   "parameters": {},
   "start_time": "2024-09-25T09:42:09.965539",
   "version": "2.6.0"
  }
 },
 "nbformat": 4,
 "nbformat_minor": 5
}
