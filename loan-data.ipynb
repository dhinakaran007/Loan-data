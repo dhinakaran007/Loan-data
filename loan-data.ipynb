{
 "cells": [
  {
   "cell_type": "code",
   "execution_count": 1,
   "id": "69c19949",
   "metadata": {
    "_cell_guid": "b1076dfc-b9ad-4769-8c92-a6c4dae69d19",
    "_uuid": "8f2839f25d086af736a60e9eeb907d3b93b6e0e5",
    "execution": {
     "iopub.execute_input": "2024-09-18T09:01:23.936524Z",
     "iopub.status.busy": "2024-09-18T09:01:23.935297Z",
     "iopub.status.idle": "2024-09-18T09:01:24.419157Z",
     "shell.execute_reply": "2024-09-18T09:01:24.417786Z"
    },
    "papermill": {
     "duration": 0.498022,
     "end_time": "2024-09-18T09:01:24.422070",
     "exception": false,
     "start_time": "2024-09-18T09:01:23.924048",
     "status": "completed"
    },
    "tags": []
   },
   "outputs": [
    {
     "name": "stdout",
     "output_type": "stream",
     "text": [
      "/kaggle/input/loan-data/loan_data.csv\n"
     ]
    }
   ],
   "source": [
    "# This Python 3 environment comes with many helpful analytics libraries installed\n",
    "# It is defined by the kaggle/python Docker image: https://github.com/kaggle/docker-python\n",
    "# For example, here's several helpful packages to load\n",
    "\n",
    "import numpy as np # linear algebra\n",
    "import pandas as pd # data processing, CSV file I/O (e.g. pd.read_csv)\n",
    "\n",
    "# Input data files are available in the read-only \"../input/\" directory\n",
    "# For example, running this (by clicking run or pressing Shift+Enter) will list all files under the input directory\n",
    "\n",
    "import os\n",
    "for dirname, _, filenames in os.walk('/kaggle/input'):\n",
    "    for filename in filenames:\n",
    "        print(os.path.join(dirname, filename))\n",
    "\n",
    "# You can write up to 20GB to the current directory (/kaggle/working/) that gets preserved as output when you create a version using \"Save & Run All\" \n",
    "# You can also write temporary files to /kaggle/temp/, but they won't be saved outside of the current session"
   ]
  },
  {
   "cell_type": "code",
   "execution_count": 2,
   "id": "1175ed2b",
   "metadata": {
    "execution": {
     "iopub.execute_input": "2024-09-18T09:01:24.438870Z",
     "iopub.status.busy": "2024-09-18T09:01:24.438296Z",
     "iopub.status.idle": "2024-09-18T09:01:24.448953Z",
     "shell.execute_reply": "2024-09-18T09:01:24.447699Z"
    },
    "papermill": {
     "duration": 0.021991,
     "end_time": "2024-09-18T09:01:24.451562",
     "exception": false,
     "start_time": "2024-09-18T09:01:24.429571",
     "status": "completed"
    },
    "tags": []
   },
   "outputs": [
    {
     "data": {
      "text/plain": [
       "['loan_data.csv']"
      ]
     },
     "execution_count": 2,
     "metadata": {},
     "output_type": "execute_result"
    }
   ],
   "source": [
    "os.listdir(\"/kaggle/input/loan-data\")"
   ]
  },
  {
   "cell_type": "code",
   "execution_count": 3,
   "id": "e33b4924",
   "metadata": {
    "execution": {
     "iopub.execute_input": "2024-09-18T09:01:24.469606Z",
     "iopub.status.busy": "2024-09-18T09:01:24.469109Z",
     "iopub.status.idle": "2024-09-18T09:01:24.553371Z",
     "shell.execute_reply": "2024-09-18T09:01:24.552177Z"
    },
    "papermill": {
     "duration": 0.097014,
     "end_time": "2024-09-18T09:01:24.555982",
     "exception": false,
     "start_time": "2024-09-18T09:01:24.458968",
     "status": "completed"
    },
    "tags": []
   },
   "outputs": [
    {
     "data": {
      "text/html": [
       "<div>\n",
       "<style scoped>\n",
       "    .dataframe tbody tr th:only-of-type {\n",
       "        vertical-align: middle;\n",
       "    }\n",
       "\n",
       "    .dataframe tbody tr th {\n",
       "        vertical-align: top;\n",
       "    }\n",
       "\n",
       "    .dataframe thead th {\n",
       "        text-align: right;\n",
       "    }\n",
       "</style>\n",
       "<table border=\"1\" class=\"dataframe\">\n",
       "  <thead>\n",
       "    <tr style=\"text-align: right;\">\n",
       "      <th></th>\n",
       "      <th>credit.policy</th>\n",
       "      <th>purpose</th>\n",
       "      <th>int.rate</th>\n",
       "      <th>installment</th>\n",
       "      <th>log.annual.inc</th>\n",
       "      <th>dti</th>\n",
       "      <th>fico</th>\n",
       "      <th>days.with.cr.line</th>\n",
       "      <th>revol.bal</th>\n",
       "      <th>revol.util</th>\n",
       "      <th>inq.last.6mths</th>\n",
       "      <th>delinq.2yrs</th>\n",
       "      <th>pub.rec</th>\n",
       "      <th>not.fully.paid</th>\n",
       "    </tr>\n",
       "  </thead>\n",
       "  <tbody>\n",
       "    <tr>\n",
       "      <th>0</th>\n",
       "      <td>1</td>\n",
       "      <td>debt_consolidation</td>\n",
       "      <td>0.1189</td>\n",
       "      <td>829.10</td>\n",
       "      <td>11.350407</td>\n",
       "      <td>19.48</td>\n",
       "      <td>737</td>\n",
       "      <td>5639.958333</td>\n",
       "      <td>28854</td>\n",
       "      <td>52.1</td>\n",
       "      <td>0</td>\n",
       "      <td>0</td>\n",
       "      <td>0</td>\n",
       "      <td>0</td>\n",
       "    </tr>\n",
       "    <tr>\n",
       "      <th>1</th>\n",
       "      <td>1</td>\n",
       "      <td>credit_card</td>\n",
       "      <td>0.1071</td>\n",
       "      <td>228.22</td>\n",
       "      <td>11.082143</td>\n",
       "      <td>14.29</td>\n",
       "      <td>707</td>\n",
       "      <td>2760.000000</td>\n",
       "      <td>33623</td>\n",
       "      <td>76.7</td>\n",
       "      <td>0</td>\n",
       "      <td>0</td>\n",
       "      <td>0</td>\n",
       "      <td>0</td>\n",
       "    </tr>\n",
       "    <tr>\n",
       "      <th>2</th>\n",
       "      <td>1</td>\n",
       "      <td>debt_consolidation</td>\n",
       "      <td>0.1357</td>\n",
       "      <td>366.86</td>\n",
       "      <td>10.373491</td>\n",
       "      <td>11.63</td>\n",
       "      <td>682</td>\n",
       "      <td>4710.000000</td>\n",
       "      <td>3511</td>\n",
       "      <td>25.6</td>\n",
       "      <td>1</td>\n",
       "      <td>0</td>\n",
       "      <td>0</td>\n",
       "      <td>0</td>\n",
       "    </tr>\n",
       "    <tr>\n",
       "      <th>3</th>\n",
       "      <td>1</td>\n",
       "      <td>debt_consolidation</td>\n",
       "      <td>0.1008</td>\n",
       "      <td>162.34</td>\n",
       "      <td>11.350407</td>\n",
       "      <td>8.10</td>\n",
       "      <td>712</td>\n",
       "      <td>2699.958333</td>\n",
       "      <td>33667</td>\n",
       "      <td>73.2</td>\n",
       "      <td>1</td>\n",
       "      <td>0</td>\n",
       "      <td>0</td>\n",
       "      <td>0</td>\n",
       "    </tr>\n",
       "    <tr>\n",
       "      <th>4</th>\n",
       "      <td>1</td>\n",
       "      <td>credit_card</td>\n",
       "      <td>0.1426</td>\n",
       "      <td>102.92</td>\n",
       "      <td>11.299732</td>\n",
       "      <td>14.97</td>\n",
       "      <td>667</td>\n",
       "      <td>4066.000000</td>\n",
       "      <td>4740</td>\n",
       "      <td>39.5</td>\n",
       "      <td>0</td>\n",
       "      <td>1</td>\n",
       "      <td>0</td>\n",
       "      <td>0</td>\n",
       "    </tr>\n",
       "  </tbody>\n",
       "</table>\n",
       "</div>"
      ],
      "text/plain": [
       "   credit.policy             purpose  int.rate  installment  log.annual.inc  \\\n",
       "0              1  debt_consolidation    0.1189       829.10       11.350407   \n",
       "1              1         credit_card    0.1071       228.22       11.082143   \n",
       "2              1  debt_consolidation    0.1357       366.86       10.373491   \n",
       "3              1  debt_consolidation    0.1008       162.34       11.350407   \n",
       "4              1         credit_card    0.1426       102.92       11.299732   \n",
       "\n",
       "     dti  fico  days.with.cr.line  revol.bal  revol.util  inq.last.6mths  \\\n",
       "0  19.48   737        5639.958333      28854        52.1               0   \n",
       "1  14.29   707        2760.000000      33623        76.7               0   \n",
       "2  11.63   682        4710.000000       3511        25.6               1   \n",
       "3   8.10   712        2699.958333      33667        73.2               1   \n",
       "4  14.97   667        4066.000000       4740        39.5               0   \n",
       "\n",
       "   delinq.2yrs  pub.rec  not.fully.paid  \n",
       "0            0        0               0  \n",
       "1            0        0               0  \n",
       "2            0        0               0  \n",
       "3            0        0               0  \n",
       "4            1        0               0  "
      ]
     },
     "execution_count": 3,
     "metadata": {},
     "output_type": "execute_result"
    }
   ],
   "source": [
    "data = pd.read_csv('/kaggle/input/loan-data/loan_data.csv')\n",
    "data.head()"
   ]
  },
  {
   "cell_type": "code",
   "execution_count": 4,
   "id": "b9a1c63a",
   "metadata": {
    "execution": {
     "iopub.execute_input": "2024-09-18T09:01:24.574698Z",
     "iopub.status.busy": "2024-09-18T09:01:24.574150Z",
     "iopub.status.idle": "2024-09-18T09:01:24.636256Z",
     "shell.execute_reply": "2024-09-18T09:01:24.634910Z"
    },
    "papermill": {
     "duration": 0.075104,
     "end_time": "2024-09-18T09:01:24.639203",
     "exception": false,
     "start_time": "2024-09-18T09:01:24.564099",
     "status": "completed"
    },
    "tags": []
   },
   "outputs": [
    {
     "data": {
      "text/html": [
       "<div>\n",
       "<style scoped>\n",
       "    .dataframe tbody tr th:only-of-type {\n",
       "        vertical-align: middle;\n",
       "    }\n",
       "\n",
       "    .dataframe tbody tr th {\n",
       "        vertical-align: top;\n",
       "    }\n",
       "\n",
       "    .dataframe thead th {\n",
       "        text-align: right;\n",
       "    }\n",
       "</style>\n",
       "<table border=\"1\" class=\"dataframe\">\n",
       "  <thead>\n",
       "    <tr style=\"text-align: right;\">\n",
       "      <th></th>\n",
       "      <th>credit.policy</th>\n",
       "      <th>int.rate</th>\n",
       "      <th>installment</th>\n",
       "      <th>log.annual.inc</th>\n",
       "      <th>dti</th>\n",
       "      <th>fico</th>\n",
       "      <th>days.with.cr.line</th>\n",
       "      <th>revol.bal</th>\n",
       "      <th>revol.util</th>\n",
       "      <th>inq.last.6mths</th>\n",
       "      <th>delinq.2yrs</th>\n",
       "      <th>pub.rec</th>\n",
       "      <th>not.fully.paid</th>\n",
       "    </tr>\n",
       "  </thead>\n",
       "  <tbody>\n",
       "    <tr>\n",
       "      <th>count</th>\n",
       "      <td>9578.000000</td>\n",
       "      <td>9578.000000</td>\n",
       "      <td>9578.000000</td>\n",
       "      <td>9578.000000</td>\n",
       "      <td>9578.000000</td>\n",
       "      <td>9578.000000</td>\n",
       "      <td>9578.000000</td>\n",
       "      <td>9.578000e+03</td>\n",
       "      <td>9578.000000</td>\n",
       "      <td>9578.000000</td>\n",
       "      <td>9578.000000</td>\n",
       "      <td>9578.000000</td>\n",
       "      <td>9578.000000</td>\n",
       "    </tr>\n",
       "    <tr>\n",
       "      <th>mean</th>\n",
       "      <td>0.804970</td>\n",
       "      <td>0.122640</td>\n",
       "      <td>319.089413</td>\n",
       "      <td>10.932117</td>\n",
       "      <td>12.606679</td>\n",
       "      <td>710.846314</td>\n",
       "      <td>4560.767197</td>\n",
       "      <td>1.691396e+04</td>\n",
       "      <td>46.799236</td>\n",
       "      <td>1.577469</td>\n",
       "      <td>0.163708</td>\n",
       "      <td>0.062122</td>\n",
       "      <td>0.160054</td>\n",
       "    </tr>\n",
       "    <tr>\n",
       "      <th>std</th>\n",
       "      <td>0.396245</td>\n",
       "      <td>0.026847</td>\n",
       "      <td>207.071301</td>\n",
       "      <td>0.614813</td>\n",
       "      <td>6.883970</td>\n",
       "      <td>37.970537</td>\n",
       "      <td>2496.930377</td>\n",
       "      <td>3.375619e+04</td>\n",
       "      <td>29.014417</td>\n",
       "      <td>2.200245</td>\n",
       "      <td>0.546215</td>\n",
       "      <td>0.262126</td>\n",
       "      <td>0.366676</td>\n",
       "    </tr>\n",
       "    <tr>\n",
       "      <th>min</th>\n",
       "      <td>0.000000</td>\n",
       "      <td>0.060000</td>\n",
       "      <td>15.670000</td>\n",
       "      <td>7.547502</td>\n",
       "      <td>0.000000</td>\n",
       "      <td>612.000000</td>\n",
       "      <td>178.958333</td>\n",
       "      <td>0.000000e+00</td>\n",
       "      <td>0.000000</td>\n",
       "      <td>0.000000</td>\n",
       "      <td>0.000000</td>\n",
       "      <td>0.000000</td>\n",
       "      <td>0.000000</td>\n",
       "    </tr>\n",
       "    <tr>\n",
       "      <th>25%</th>\n",
       "      <td>1.000000</td>\n",
       "      <td>0.103900</td>\n",
       "      <td>163.770000</td>\n",
       "      <td>10.558414</td>\n",
       "      <td>7.212500</td>\n",
       "      <td>682.000000</td>\n",
       "      <td>2820.000000</td>\n",
       "      <td>3.187000e+03</td>\n",
       "      <td>22.600000</td>\n",
       "      <td>0.000000</td>\n",
       "      <td>0.000000</td>\n",
       "      <td>0.000000</td>\n",
       "      <td>0.000000</td>\n",
       "    </tr>\n",
       "    <tr>\n",
       "      <th>50%</th>\n",
       "      <td>1.000000</td>\n",
       "      <td>0.122100</td>\n",
       "      <td>268.950000</td>\n",
       "      <td>10.928884</td>\n",
       "      <td>12.665000</td>\n",
       "      <td>707.000000</td>\n",
       "      <td>4139.958333</td>\n",
       "      <td>8.596000e+03</td>\n",
       "      <td>46.300000</td>\n",
       "      <td>1.000000</td>\n",
       "      <td>0.000000</td>\n",
       "      <td>0.000000</td>\n",
       "      <td>0.000000</td>\n",
       "    </tr>\n",
       "    <tr>\n",
       "      <th>75%</th>\n",
       "      <td>1.000000</td>\n",
       "      <td>0.140700</td>\n",
       "      <td>432.762500</td>\n",
       "      <td>11.291293</td>\n",
       "      <td>17.950000</td>\n",
       "      <td>737.000000</td>\n",
       "      <td>5730.000000</td>\n",
       "      <td>1.824950e+04</td>\n",
       "      <td>70.900000</td>\n",
       "      <td>2.000000</td>\n",
       "      <td>0.000000</td>\n",
       "      <td>0.000000</td>\n",
       "      <td>0.000000</td>\n",
       "    </tr>\n",
       "    <tr>\n",
       "      <th>max</th>\n",
       "      <td>1.000000</td>\n",
       "      <td>0.216400</td>\n",
       "      <td>940.140000</td>\n",
       "      <td>14.528354</td>\n",
       "      <td>29.960000</td>\n",
       "      <td>827.000000</td>\n",
       "      <td>17639.958330</td>\n",
       "      <td>1.207359e+06</td>\n",
       "      <td>119.000000</td>\n",
       "      <td>33.000000</td>\n",
       "      <td>13.000000</td>\n",
       "      <td>5.000000</td>\n",
       "      <td>1.000000</td>\n",
       "    </tr>\n",
       "  </tbody>\n",
       "</table>\n",
       "</div>"
      ],
      "text/plain": [
       "       credit.policy     int.rate  installment  log.annual.inc          dti  \\\n",
       "count    9578.000000  9578.000000  9578.000000     9578.000000  9578.000000   \n",
       "mean        0.804970     0.122640   319.089413       10.932117    12.606679   \n",
       "std         0.396245     0.026847   207.071301        0.614813     6.883970   \n",
       "min         0.000000     0.060000    15.670000        7.547502     0.000000   \n",
       "25%         1.000000     0.103900   163.770000       10.558414     7.212500   \n",
       "50%         1.000000     0.122100   268.950000       10.928884    12.665000   \n",
       "75%         1.000000     0.140700   432.762500       11.291293    17.950000   \n",
       "max         1.000000     0.216400   940.140000       14.528354    29.960000   \n",
       "\n",
       "              fico  days.with.cr.line     revol.bal   revol.util  \\\n",
       "count  9578.000000        9578.000000  9.578000e+03  9578.000000   \n",
       "mean    710.846314        4560.767197  1.691396e+04    46.799236   \n",
       "std      37.970537        2496.930377  3.375619e+04    29.014417   \n",
       "min     612.000000         178.958333  0.000000e+00     0.000000   \n",
       "25%     682.000000        2820.000000  3.187000e+03    22.600000   \n",
       "50%     707.000000        4139.958333  8.596000e+03    46.300000   \n",
       "75%     737.000000        5730.000000  1.824950e+04    70.900000   \n",
       "max     827.000000       17639.958330  1.207359e+06   119.000000   \n",
       "\n",
       "       inq.last.6mths  delinq.2yrs      pub.rec  not.fully.paid  \n",
       "count     9578.000000  9578.000000  9578.000000     9578.000000  \n",
       "mean         1.577469     0.163708     0.062122        0.160054  \n",
       "std          2.200245     0.546215     0.262126        0.366676  \n",
       "min          0.000000     0.000000     0.000000        0.000000  \n",
       "25%          0.000000     0.000000     0.000000        0.000000  \n",
       "50%          1.000000     0.000000     0.000000        0.000000  \n",
       "75%          2.000000     0.000000     0.000000        0.000000  \n",
       "max         33.000000    13.000000     5.000000        1.000000  "
      ]
     },
     "execution_count": 4,
     "metadata": {},
     "output_type": "execute_result"
    }
   ],
   "source": [
    "data.describe()"
   ]
  },
  {
   "cell_type": "code",
   "execution_count": 5,
   "id": "38394977",
   "metadata": {
    "execution": {
     "iopub.execute_input": "2024-09-18T09:01:24.658211Z",
     "iopub.status.busy": "2024-09-18T09:01:24.657094Z",
     "iopub.status.idle": "2024-09-18T09:01:24.669313Z",
     "shell.execute_reply": "2024-09-18T09:01:24.667877Z"
    },
    "papermill": {
     "duration": 0.024528,
     "end_time": "2024-09-18T09:01:24.671991",
     "exception": false,
     "start_time": "2024-09-18T09:01:24.647463",
     "status": "completed"
    },
    "tags": []
   },
   "outputs": [
    {
     "data": {
      "text/plain": [
       "credit.policy        0\n",
       "purpose              0\n",
       "int.rate             0\n",
       "installment          0\n",
       "log.annual.inc       0\n",
       "dti                  0\n",
       "fico                 0\n",
       "days.with.cr.line    0\n",
       "revol.bal            0\n",
       "revol.util           0\n",
       "inq.last.6mths       0\n",
       "delinq.2yrs          0\n",
       "pub.rec              0\n",
       "not.fully.paid       0\n",
       "dtype: int64"
      ]
     },
     "execution_count": 5,
     "metadata": {},
     "output_type": "execute_result"
    }
   ],
   "source": [
    "data.isnull().sum()"
   ]
  },
  {
   "cell_type": "code",
   "execution_count": 6,
   "id": "7aeb1024",
   "metadata": {
    "execution": {
     "iopub.execute_input": "2024-09-18T09:01:24.690287Z",
     "iopub.status.busy": "2024-09-18T09:01:24.689846Z",
     "iopub.status.idle": "2024-09-18T09:01:24.707062Z",
     "shell.execute_reply": "2024-09-18T09:01:24.705835Z"
    },
    "papermill": {
     "duration": 0.029662,
     "end_time": "2024-09-18T09:01:24.709907",
     "exception": false,
     "start_time": "2024-09-18T09:01:24.680245",
     "status": "completed"
    },
    "tags": []
   },
   "outputs": [
    {
     "data": {
      "text/plain": [
       "count                   9578\n",
       "unique                     7\n",
       "top       debt_consolidation\n",
       "freq                    3957\n",
       "Name: purpose, dtype: object"
      ]
     },
     "execution_count": 6,
     "metadata": {},
     "output_type": "execute_result"
    }
   ],
   "source": [
    "data[\"purpose\"].describe()"
   ]
  },
  {
   "cell_type": "code",
   "execution_count": 7,
   "id": "1d88c84e",
   "metadata": {
    "execution": {
     "iopub.execute_input": "2024-09-18T09:01:24.730726Z",
     "iopub.status.busy": "2024-09-18T09:01:24.730254Z",
     "iopub.status.idle": "2024-09-18T09:01:24.736846Z",
     "shell.execute_reply": "2024-09-18T09:01:24.735602Z"
    },
    "papermill": {
     "duration": 0.020974,
     "end_time": "2024-09-18T09:01:24.739811",
     "exception": false,
     "start_time": "2024-09-18T09:01:24.718837",
     "status": "completed"
    },
    "tags": []
   },
   "outputs": [],
   "source": [
    "new_data = pd.DataFrame(data[\"purpose\"])"
   ]
  },
  {
   "cell_type": "code",
   "execution_count": 8,
   "id": "401c1aa1",
   "metadata": {
    "execution": {
     "iopub.execute_input": "2024-09-18T09:01:24.758317Z",
     "iopub.status.busy": "2024-09-18T09:01:24.757821Z",
     "iopub.status.idle": "2024-09-18T09:01:24.765800Z",
     "shell.execute_reply": "2024-09-18T09:01:24.764665Z"
    },
    "papermill": {
     "duration": 0.020493,
     "end_time": "2024-09-18T09:01:24.768669",
     "exception": false,
     "start_time": "2024-09-18T09:01:24.748176",
     "status": "completed"
    },
    "tags": []
   },
   "outputs": [
    {
     "data": {
      "text/plain": [
       "dtype('O')"
      ]
     },
     "execution_count": 8,
     "metadata": {},
     "output_type": "execute_result"
    }
   ],
   "source": [
    "new_data[\"purpose\"].dtype"
   ]
  },
  {
   "cell_type": "code",
   "execution_count": 9,
   "id": "84bc6eb2",
   "metadata": {
    "execution": {
     "iopub.execute_input": "2024-09-18T09:01:24.787298Z",
     "iopub.status.busy": "2024-09-18T09:01:24.786851Z",
     "iopub.status.idle": "2024-09-18T09:01:24.793443Z",
     "shell.execute_reply": "2024-09-18T09:01:24.792051Z"
    },
    "papermill": {
     "duration": 0.019156,
     "end_time": "2024-09-18T09:01:24.796184",
     "exception": false,
     "start_time": "2024-09-18T09:01:24.777028",
     "status": "completed"
    },
    "tags": []
   },
   "outputs": [],
   "source": [
    "new_data[\"numeric\"] = new_data[\"purpose\"]"
   ]
  },
  {
   "cell_type": "code",
   "execution_count": 10,
   "id": "ea8d7371",
   "metadata": {
    "execution": {
     "iopub.execute_input": "2024-09-18T09:01:24.815339Z",
     "iopub.status.busy": "2024-09-18T09:01:24.814846Z",
     "iopub.status.idle": "2024-09-18T09:01:24.826847Z",
     "shell.execute_reply": "2024-09-18T09:01:24.825663Z"
    },
    "papermill": {
     "duration": 0.024929,
     "end_time": "2024-09-18T09:01:24.829617",
     "exception": false,
     "start_time": "2024-09-18T09:01:24.804688",
     "status": "completed"
    },
    "tags": []
   },
   "outputs": [],
   "source": [
    "new_data[\"numeric\"] = new_data[\"numeric\"].astype('category')"
   ]
  },
  {
   "cell_type": "code",
   "execution_count": 11,
   "id": "8bb51cb3",
   "metadata": {
    "execution": {
     "iopub.execute_input": "2024-09-18T09:01:24.850252Z",
     "iopub.status.busy": "2024-09-18T09:01:24.849047Z",
     "iopub.status.idle": "2024-09-18T09:01:24.855941Z",
     "shell.execute_reply": "2024-09-18T09:01:24.854604Z"
    },
    "papermill": {
     "duration": 0.020451,
     "end_time": "2024-09-18T09:01:24.858665",
     "exception": false,
     "start_time": "2024-09-18T09:01:24.838214",
     "status": "completed"
    },
    "tags": []
   },
   "outputs": [],
   "source": [
    "new_data[\"numeric\"] = new_data[\"numeric\"].cat.codes"
   ]
  },
  {
   "cell_type": "code",
   "execution_count": 12,
   "id": "cef7bef2",
   "metadata": {
    "execution": {
     "iopub.execute_input": "2024-09-18T09:01:24.878039Z",
     "iopub.status.busy": "2024-09-18T09:01:24.877599Z",
     "iopub.status.idle": "2024-09-18T09:01:24.888896Z",
     "shell.execute_reply": "2024-09-18T09:01:24.887648Z"
    },
    "papermill": {
     "duration": 0.023946,
     "end_time": "2024-09-18T09:01:24.891620",
     "exception": false,
     "start_time": "2024-09-18T09:01:24.867674",
     "status": "completed"
    },
    "tags": []
   },
   "outputs": [
    {
     "data": {
      "text/html": [
       "<div>\n",
       "<style scoped>\n",
       "    .dataframe tbody tr th:only-of-type {\n",
       "        vertical-align: middle;\n",
       "    }\n",
       "\n",
       "    .dataframe tbody tr th {\n",
       "        vertical-align: top;\n",
       "    }\n",
       "\n",
       "    .dataframe thead th {\n",
       "        text-align: right;\n",
       "    }\n",
       "</style>\n",
       "<table border=\"1\" class=\"dataframe\">\n",
       "  <thead>\n",
       "    <tr style=\"text-align: right;\">\n",
       "      <th></th>\n",
       "      <th>purpose</th>\n",
       "      <th>numeric</th>\n",
       "    </tr>\n",
       "  </thead>\n",
       "  <tbody>\n",
       "    <tr>\n",
       "      <th>0</th>\n",
       "      <td>debt_consolidation</td>\n",
       "      <td>2</td>\n",
       "    </tr>\n",
       "    <tr>\n",
       "      <th>1</th>\n",
       "      <td>credit_card</td>\n",
       "      <td>1</td>\n",
       "    </tr>\n",
       "    <tr>\n",
       "      <th>2</th>\n",
       "      <td>debt_consolidation</td>\n",
       "      <td>2</td>\n",
       "    </tr>\n",
       "    <tr>\n",
       "      <th>3</th>\n",
       "      <td>debt_consolidation</td>\n",
       "      <td>2</td>\n",
       "    </tr>\n",
       "    <tr>\n",
       "      <th>4</th>\n",
       "      <td>credit_card</td>\n",
       "      <td>1</td>\n",
       "    </tr>\n",
       "  </tbody>\n",
       "</table>\n",
       "</div>"
      ],
      "text/plain": [
       "              purpose  numeric\n",
       "0  debt_consolidation        2\n",
       "1         credit_card        1\n",
       "2  debt_consolidation        2\n",
       "3  debt_consolidation        2\n",
       "4         credit_card        1"
      ]
     },
     "execution_count": 12,
     "metadata": {},
     "output_type": "execute_result"
    }
   ],
   "source": [
    "new_data.head()"
   ]
  },
  {
   "cell_type": "code",
   "execution_count": 13,
   "id": "deee0a48",
   "metadata": {
    "execution": {
     "iopub.execute_input": "2024-09-18T09:01:24.911261Z",
     "iopub.status.busy": "2024-09-18T09:01:24.910813Z",
     "iopub.status.idle": "2024-09-18T09:01:26.922296Z",
     "shell.execute_reply": "2024-09-18T09:01:26.920849Z"
    },
    "papermill": {
     "duration": 2.024929,
     "end_time": "2024-09-18T09:01:26.925208",
     "exception": false,
     "start_time": "2024-09-18T09:01:24.900279",
     "status": "completed"
    },
    "tags": []
   },
   "outputs": [],
   "source": [
    "import seaborn as sns\n",
    "from matplotlib import rcParams"
   ]
  },
  {
   "cell_type": "code",
   "execution_count": 14,
   "id": "a876f411",
   "metadata": {
    "execution": {
     "iopub.execute_input": "2024-09-18T09:01:26.945193Z",
     "iopub.status.busy": "2024-09-18T09:01:26.944555Z",
     "iopub.status.idle": "2024-09-18T09:01:27.347424Z",
     "shell.execute_reply": "2024-09-18T09:01:27.346047Z"
    },
    "papermill": {
     "duration": 0.415933,
     "end_time": "2024-09-18T09:01:27.350358",
     "exception": false,
     "start_time": "2024-09-18T09:01:26.934425",
     "status": "completed"
    },
    "tags": []
   },
   "outputs": [
    {
     "name": "stderr",
     "output_type": "stream",
     "text": [
      "/opt/conda/lib/python3.10/site-packages/seaborn/_oldcore.py:1119: FutureWarning: use_inf_as_na option is deprecated and will be removed in a future version. Convert inf values to NaN before operating instead.\n",
      "  with pd.option_context('mode.use_inf_as_na', True):\n"
     ]
    },
    {
     "data": {
      "text/plain": [
       "[<matplotlib.axis.XTick at 0x7b726d10e230>,\n",
       " <matplotlib.axis.XTick at 0x7b726d10e200>,\n",
       " <matplotlib.axis.XTick at 0x7b726cefa590>,\n",
       " <matplotlib.axis.XTick at 0x7b726d2dd450>,\n",
       " <matplotlib.axis.XTick at 0x7b726d2dcbe0>,\n",
       " <matplotlib.axis.XTick at 0x7b726d2ddf00>,\n",
       " <matplotlib.axis.XTick at 0x7b726d2df1c0>]"
      ]
     },
     "execution_count": 14,
     "metadata": {},
     "output_type": "execute_result"
    },
    {
     "data": {
      "image/png": "[encoded data removed]",
      "text/plain": [
       "<Figure size 1170x827 with 1 Axes>"
      ]
     },
     "metadata": {},
     "output_type": "display_data"
    }
   ],
   "source": [
    "rcParams['figure.figsize'] = 11.7,8.27\n",
    "genderPlot = sns.histplot(new_data['purpose'], bins=2, discrete=True);\n",
    "genderPlot.set_xticks(data['purpose'].unique())"
   ]
  },
  {
   "cell_type": "code",
   "execution_count": 15,
   "id": "5086ea4e",
   "metadata": {
    "execution": {
     "iopub.execute_input": "2024-09-18T09:01:27.371395Z",
     "iopub.status.busy": "2024-09-18T09:01:27.370921Z",
     "iopub.status.idle": "2024-09-18T09:01:27.614280Z",
     "shell.execute_reply": "2024-09-18T09:01:27.612769Z"
    },
    "papermill": {
     "duration": 0.257848,
     "end_time": "2024-09-18T09:01:27.617751",
     "exception": false,
     "start_time": "2024-09-18T09:01:27.359903",
     "status": "completed"
    },
    "tags": []
   },
   "outputs": [
    {
     "data": {
      "text/plain": [
       "<Axes: >"
      ]
     },
     "execution_count": 15,
     "metadata": {},
     "output_type": "execute_result"
    },
    {
     "data": {
      "image/png": "[encoded data removed]",
      "text/plain": [
       "<Figure size 1170x827 with 1 Axes>"
      ]
     },
     "metadata": {},
     "output_type": "display_data"
    }
   ],
   "source": [
    "import matplotlib.pyplot as plt\n",
    "\n",
    "new_data.plot(kind='box')"
   ]
  },
  {
   "cell_type": "code",
   "execution_count": 16,
   "id": "7867ecf8",
   "metadata": {
    "execution": {
     "iopub.execute_input": "2024-09-18T09:01:27.641655Z",
     "iopub.status.busy": "2024-09-18T09:01:27.641153Z",
     "iopub.status.idle": "2024-09-18T09:01:27.650771Z",
     "shell.execute_reply": "2024-09-18T09:01:27.649094Z"
    },
    "papermill": {
     "duration": 0.024968,
     "end_time": "2024-09-18T09:01:27.654161",
     "exception": false,
     "start_time": "2024-09-18T09:01:27.629193",
     "status": "completed"
    },
    "tags": []
   },
   "outputs": [
    {
     "data": {
      "text/plain": [
       "Index(['credit.policy', 'purpose', 'int.rate', 'installment', 'log.annual.inc',\n",
       "       'dti', 'fico', 'days.with.cr.line', 'revol.bal', 'revol.util',\n",
       "       'inq.last.6mths', 'delinq.2yrs', 'pub.rec', 'not.fully.paid'],\n",
       "      dtype='object')"
      ]
     },
     "execution_count": 16,
     "metadata": {},
     "output_type": "execute_result"
    }
   ],
   "source": [
    "data.columns"
   ]
  },
  {
   "cell_type": "code",
   "execution_count": 17,
   "id": "2eab7f4f",
   "metadata": {
    "execution": {
     "iopub.execute_input": "2024-09-18T09:01:27.678190Z",
     "iopub.status.busy": "2024-09-18T09:01:27.677390Z",
     "iopub.status.idle": "2024-09-18T09:01:28.035302Z",
     "shell.execute_reply": "2024-09-18T09:01:28.033828Z"
    },
    "papermill": {
     "duration": 0.373591,
     "end_time": "2024-09-18T09:01:28.038617",
     "exception": false,
     "start_time": "2024-09-18T09:01:27.665026",
     "status": "completed"
    },
    "tags": []
   },
   "outputs": [
    {
     "data": {
      "image/png": "[encoded data removed]",
      "text/plain": [
       "<Figure size 1170x827 with 1 Axes>"
      ]
     },
     "metadata": {},
     "output_type": "display_data"
    }
   ],
   "source": [
    "rcParams['figure.figsize'] = 11.7,8.27\n",
    "sns.boxplot(data=data, x=\"purpose\", y=\"int.rate\")\n",
    "plt.show()"
   ]
  },
  {
   "cell_type": "code",
   "execution_count": 18,
   "id": "e1863b9a",
   "metadata": {
    "execution": {
     "iopub.execute_input": "2024-09-18T09:01:28.063253Z",
     "iopub.status.busy": "2024-09-18T09:01:28.062794Z",
     "iopub.status.idle": "2024-09-18T09:01:28.075797Z",
     "shell.execute_reply": "2024-09-18T09:01:28.074153Z"
    },
    "papermill": {
     "duration": 0.028497,
     "end_time": "2024-09-18T09:01:28.078589",
     "exception": false,
     "start_time": "2024-09-18T09:01:28.050092",
     "status": "completed"
    },
    "tags": []
   },
   "outputs": [
    {
     "data": {
      "text/plain": [
       "credit.policy        0\n",
       "purpose              0\n",
       "int.rate             0\n",
       "installment          0\n",
       "log.annual.inc       0\n",
       "dti                  0\n",
       "fico                 0\n",
       "days.with.cr.line    0\n",
       "revol.bal            0\n",
       "revol.util           0\n",
       "inq.last.6mths       0\n",
       "delinq.2yrs          0\n",
       "pub.rec              0\n",
       "not.fully.paid       0\n",
       "dtype: int64"
      ]
     },
     "execution_count": 18,
     "metadata": {},
     "output_type": "execute_result"
    }
   ],
   "source": [
    "data.isna().sum()"
   ]
  },
  {
   "cell_type": "code",
   "execution_count": 19,
   "id": "f9ba5135",
   "metadata": {
    "execution": {
     "iopub.execute_input": "2024-09-18T09:01:28.104281Z",
     "iopub.status.busy": "2024-09-18T09:01:28.103802Z",
     "iopub.status.idle": "2024-09-18T09:01:28.746723Z",
     "shell.execute_reply": "2024-09-18T09:01:28.745478Z"
    },
    "papermill": {
     "duration": 0.658649,
     "end_time": "2024-09-18T09:01:28.749886",
     "exception": false,
     "start_time": "2024-09-18T09:01:28.091237",
     "status": "completed"
    },
    "tags": []
   },
   "outputs": [
    {
     "data": {
      "image/png": "[encoded data removed]",
      "text/plain": [
       "<Figure size 1170x827 with 1 Axes>"
      ]
     },
     "metadata": {},
     "output_type": "display_data"
    }
   ],
   "source": [
    "rcParams['figure.figsize'] = 11.7,8.27\n",
    "sns.barplot(data=data, x=\"purpose\", y=\"not.fully.paid\")\n",
    "plt.show()"
   ]
  }
 ],
 "metadata": {
  "kaggle": {
   "accelerator": "none",
   "dataSources": [
    {
     "datasetId": 1340957,
     "sourceId": 2232033,
     "sourceType": "datasetVersion"
    }
   ],
   "dockerImageVersionId": 30761,
   "isGpuEnabled": false,
   "isInternetEnabled": false,
   "language": "python",
   "sourceType": "notebook"
  },
  "kernelspec": {
   "display_name": "Python 3",
   "language": "python",
   "name": "python3"
  },
  "language_info": {
   "codemirror_mode": {
    "name": "ipython",
    "version": 3
   },
   "file_extension": ".py",
   "mimetype": "text/x-python",
   "name": "python",
   "nbconvert_exporter": "python",
   "pygments_lexer": "ipython3",
   "version": "3.10.14"
  },
  "papermill": {
   "default_parameters": {},
   "duration": 8.699469,
   "end_time": "2024-09-18T09:01:29.487722",
   "environment_variables": {},
   "exception": null,
   "input_path": "__notebook__.ipynb",
   "output_path": "__notebook__.ipynb",
   "parameters": {},
   "start_time": "2024-09-18T09:01:20.788253",
   "version": "2.6.0"
  }
 },
 "nbformat": 4,
 "nbformat_minor": 5
}
